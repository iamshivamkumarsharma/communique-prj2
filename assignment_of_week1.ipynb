{
  "nbformat": 4,
  "nbformat_minor": 0,
  "metadata": {
    "colab": {
      "provenance": [],
      "include_colab_link": true
    },
    "kernelspec": {
      "name": "python3",
      "display_name": "Python 3"
    },
    "language_info": {
      "name": "python"
    }
  },
  "cells": [
    {
      "cell_type": "markdown",
      "metadata": {
        "id": "view-in-github",
        "colab_type": "text"
      },
      "source": [
        "<a href=\"https://colab.research.google.com/github/iamshivamkumarsharma/communique-prj2/blob/main/assignment_of_week1.ipynb\" target=\"_parent\"><img src=\"https://colab.research.google.com/assets/colab-badge.svg\" alt=\"Open In Colab\"/></a>"
      ]
    },
    {
      "cell_type": "markdown",
      "source": [
        "**Welcome to your first assignment of Summer Analytics 2023! We hope you are excited to implement and test everything you have learnt up until now.<a href = \"https://drive.google.com/file/d/1U73P58VAc4EXM98Or9feKnVx9I9FOP_L/view?usp=sharing\"> The dataset</a> which you'll use includes information about Movies.**"
      ],
      "metadata": {
        "id": "7t7O3hPJQQ1h"
      }
    },
    {
      "cell_type": "markdown",
      "source": [
        " We've got an interesting set of questions for you to get a basic understanding of pandas and data visualization libraries. GOOD LUCK!\n",
        " \n",
        "Let's get started with importing numpy, pandas, seaborn and matplotlib! "
      ],
      "metadata": {
        "id": "8yDZv8F_QiqH"
      }
    },
    {
      "cell_type": "markdown",
      "source": [
        "Note - matplotlib should be imported with the command :\n",
        "\n",
        "**import matplotlib.pyplot as plt**"
      ],
      "metadata": {
        "id": "p-nMuCNQQxx_"
      }
    },
    {
      "cell_type": "markdown",
      "source": [
        "Start by importing all important libraries"
      ],
      "metadata": {
        "id": "nz8BTfnCRC8v"
      }
    },
    {
      "cell_type": "code",
      "execution_count": 97,
      "metadata": {
        "id": "rKkyeMJiO0up"
      },
      "outputs": [],
      "source": [
        "import numpy as np\n",
        "import pandas as pd\n",
        "import seaborn as sns\n",
        "import matplotlib.pyplot as plt\n"
      ]
    },
    {
      "cell_type": "markdown",
      "source": [
        "Read the csv file and assign it to a variable ."
      ],
      "metadata": {
        "id": "2N8LabERRONN"
      }
    },
    {
      "cell_type": "markdown",
      "source": [
        "# New Section"
      ],
      "metadata": {
        "id": "uKxjJHwxZxI1"
      }
    },
    {
      "cell_type": "code",
      "source": [
        "from pandas.core.groupby.generic import DataFrame\n",
        "df=pd.read_csv(\"/imdb_top_1000.csv\")\n",
        "df\n",
        "\n"
      ],
      "metadata": {
        "id": "vnjh3IZmRO72",
        "outputId": "8e875607-14ef-4534-dbe0-ae7cad07b073",
        "colab": {
          "base_uri": "https://localhost:8080/",
          "height": 1000
        }
      },
      "execution_count": 98,
      "outputs": [
        {
          "output_type": "execute_result",
          "data": {
            "text/plain": [
              "                                           Poster_Link  \\\n",
              "0    https://m.media-amazon.com/images/M/MV5BMDFkYT...   \n",
              "1    https://m.media-amazon.com/images/M/MV5BM2MyNj...   \n",
              "2    https://m.media-amazon.com/images/M/MV5BMTMxNT...   \n",
              "3    https://m.media-amazon.com/images/M/MV5BMWMwMG...   \n",
              "4    https://m.media-amazon.com/images/M/MV5BMWU4N2...   \n",
              "..                                                 ...   \n",
              "995  https://m.media-amazon.com/images/M/MV5BNGEwMT...   \n",
              "996  https://m.media-amazon.com/images/M/MV5BODk3Yj...   \n",
              "997  https://m.media-amazon.com/images/M/MV5BM2U3Yz...   \n",
              "998  https://m.media-amazon.com/images/M/MV5BZTBmMj...   \n",
              "999  https://m.media-amazon.com/images/M/MV5BMTY5OD...   \n",
              "\n",
              "                 Series_Title Released_Year Certificate  Runtime  \\\n",
              "0    The Shawshank Redemption          1994           A  142 min   \n",
              "1               The Godfather          1972           A  175 min   \n",
              "2             The Dark Knight          2008          UA  152 min   \n",
              "3      The Godfather: Part II          1974           A  202 min   \n",
              "4                12 Angry Men          1957           U   96 min   \n",
              "..                        ...           ...         ...      ...   \n",
              "995    Breakfast at Tiffany's          1961           A  115 min   \n",
              "996                     Giant          1956           G  201 min   \n",
              "997     From Here to Eternity          1953      Passed  118 min   \n",
              "998                  Lifeboat          1944         NaN   97 min   \n",
              "999              The 39 Steps          1935         NaN   86 min   \n",
              "\n",
              "                        Genre  IMDB_Rating  \\\n",
              "0                       Drama          9.3   \n",
              "1                Crime, Drama          9.2   \n",
              "2        Action, Crime, Drama          9.0   \n",
              "3                Crime, Drama          9.0   \n",
              "4                Crime, Drama          9.0   \n",
              "..                        ...          ...   \n",
              "995    Comedy, Drama, Romance          7.6   \n",
              "996            Drama, Western          7.6   \n",
              "997       Drama, Romance, War          7.6   \n",
              "998                Drama, War          7.6   \n",
              "999  Crime, Mystery, Thriller          7.6   \n",
              "\n",
              "                                              Overview  Meta_score  \\\n",
              "0    Two imprisoned men bond over a number of years...        80.0   \n",
              "1    An organized crime dynasty's aging patriarch t...       100.0   \n",
              "2    When the menace known as the Joker wreaks havo...        84.0   \n",
              "3    The early life and career of Vito Corleone in ...        90.0   \n",
              "4    A jury holdout attempts to prevent a miscarria...        96.0   \n",
              "..                                                 ...         ...   \n",
              "995  A young New York socialite becomes interested ...        76.0   \n",
              "996  Sprawling epic covering the life of a Texas ca...        84.0   \n",
              "997  In Hawaii in 1941, a private is cruelly punish...        85.0   \n",
              "998  Several survivors of a torpedoed merchant ship...        78.0   \n",
              "999  A man in London tries to help a counter-espion...        93.0   \n",
              "\n",
              "                 Director              Star1              Star2  \\\n",
              "0          Frank Darabont        Tim Robbins     Morgan Freeman   \n",
              "1    Francis Ford Coppola      Marlon Brando          Al Pacino   \n",
              "2       Christopher Nolan     Christian Bale       Heath Ledger   \n",
              "3    Francis Ford Coppola          Al Pacino     Robert De Niro   \n",
              "4            Sidney Lumet        Henry Fonda        Lee J. Cobb   \n",
              "..                    ...                ...                ...   \n",
              "995         Blake Edwards     Audrey Hepburn     George Peppard   \n",
              "996        George Stevens   Elizabeth Taylor        Rock Hudson   \n",
              "997        Fred Zinnemann     Burt Lancaster   Montgomery Clift   \n",
              "998      Alfred Hitchcock  Tallulah Bankhead        John Hodiak   \n",
              "999      Alfred Hitchcock       Robert Donat  Madeleine Carroll   \n",
              "\n",
              "              Star3           Star4  No_of_Votes        Gross  \n",
              "0        Bob Gunton  William Sadler      2343110   28,341,469  \n",
              "1        James Caan    Diane Keaton      1620367  134,966,411  \n",
              "2     Aaron Eckhart   Michael Caine      2303232  534,858,444  \n",
              "3     Robert Duvall    Diane Keaton      1129952   57,300,000  \n",
              "4     Martin Balsam    John Fiedler       689845    4,360,000  \n",
              "..              ...             ...          ...          ...  \n",
              "995   Patricia Neal     Buddy Ebsen       166544          NaN  \n",
              "996      James Dean   Carroll Baker        34075          NaN  \n",
              "997    Deborah Kerr      Donna Reed        43374   30,500,000  \n",
              "998   Walter Slezak  William Bendix        26471          NaN  \n",
              "999  Lucie Mannheim  Godfrey Tearle        51853          NaN  \n",
              "\n",
              "[1000 rows x 16 columns]"
            ],
            "text/html": [
              "\n",
              "  <div id=\"df-614dfeee-29ff-4d15-930a-f17bd874decd\">\n",
              "    <div class=\"colab-df-container\">\n",
              "      <div>\n",
              "<style scoped>\n",
              "    .dataframe tbody tr th:only-of-type {\n",
              "        vertical-align: middle;\n",
              "    }\n",
              "\n",
              "    .dataframe tbody tr th {\n",
              "        vertical-align: top;\n",
              "    }\n",
              "\n",
              "    .dataframe thead th {\n",
              "        text-align: right;\n",
              "    }\n",
              "</style>\n",
              "<table border=\"1\" class=\"dataframe\">\n",
              "  <thead>\n",
              "    <tr style=\"text-align: right;\">\n",
              "      <th></th>\n",
              "      <th>Poster_Link</th>\n",
              "      <th>Series_Title</th>\n",
              "      <th>Released_Year</th>\n",
              "      <th>Certificate</th>\n",
              "      <th>Runtime</th>\n",
              "      <th>Genre</th>\n",
              "      <th>IMDB_Rating</th>\n",
              "      <th>Overview</th>\n",
              "      <th>Meta_score</th>\n",
              "      <th>Director</th>\n",
              "      <th>Star1</th>\n",
              "      <th>Star2</th>\n",
              "      <th>Star3</th>\n",
              "      <th>Star4</th>\n",
              "      <th>No_of_Votes</th>\n",
              "      <th>Gross</th>\n",
              "    </tr>\n",
              "  </thead>\n",
              "  <tbody>\n",
              "    <tr>\n",
              "      <th>0</th>\n",
              "      <td>https://m.media-amazon.com/images/M/MV5BMDFkYT...</td>\n",
              "      <td>The Shawshank Redemption</td>\n",
              "      <td>1994</td>\n",
              "      <td>A</td>\n",
              "      <td>142 min</td>\n",
              "      <td>Drama</td>\n",
              "      <td>9.3</td>\n",
              "      <td>Two imprisoned men bond over a number of years...</td>\n",
              "      <td>80.0</td>\n",
              "      <td>Frank Darabont</td>\n",
              "      <td>Tim Robbins</td>\n",
              "      <td>Morgan Freeman</td>\n",
              "      <td>Bob Gunton</td>\n",
              "      <td>William Sadler</td>\n",
              "      <td>2343110</td>\n",
              "      <td>28,341,469</td>\n",
              "    </tr>\n",
              "    <tr>\n",
              "      <th>1</th>\n",
              "      <td>https://m.media-amazon.com/images/M/MV5BM2MyNj...</td>\n",
              "      <td>The Godfather</td>\n",
              "      <td>1972</td>\n",
              "      <td>A</td>\n",
              "      <td>175 min</td>\n",
              "      <td>Crime, Drama</td>\n",
              "      <td>9.2</td>\n",
              "      <td>An organized crime dynasty's aging patriarch t...</td>\n",
              "      <td>100.0</td>\n",
              "      <td>Francis Ford Coppola</td>\n",
              "      <td>Marlon Brando</td>\n",
              "      <td>Al Pacino</td>\n",
              "      <td>James Caan</td>\n",
              "      <td>Diane Keaton</td>\n",
              "      <td>1620367</td>\n",
              "      <td>134,966,411</td>\n",
              "    </tr>\n",
              "    <tr>\n",
              "      <th>2</th>\n",
              "      <td>https://m.media-amazon.com/images/M/MV5BMTMxNT...</td>\n",
              "      <td>The Dark Knight</td>\n",
              "      <td>2008</td>\n",
              "      <td>UA</td>\n",
              "      <td>152 min</td>\n",
              "      <td>Action, Crime, Drama</td>\n",
              "      <td>9.0</td>\n",
              "      <td>When the menace known as the Joker wreaks havo...</td>\n",
              "      <td>84.0</td>\n",
              "      <td>Christopher Nolan</td>\n",
              "      <td>Christian Bale</td>\n",
              "      <td>Heath Ledger</td>\n",
              "      <td>Aaron Eckhart</td>\n",
              "      <td>Michael Caine</td>\n",
              "      <td>2303232</td>\n",
              "      <td>534,858,444</td>\n",
              "    </tr>\n",
              "    <tr>\n",
              "      <th>3</th>\n",
              "      <td>https://m.media-amazon.com/images/M/MV5BMWMwMG...</td>\n",
              "      <td>The Godfather: Part II</td>\n",
              "      <td>1974</td>\n",
              "      <td>A</td>\n",
              "      <td>202 min</td>\n",
              "      <td>Crime, Drama</td>\n",
              "      <td>9.0</td>\n",
              "      <td>The early life and career of Vito Corleone in ...</td>\n",
              "      <td>90.0</td>\n",
              "      <td>Francis Ford Coppola</td>\n",
              "      <td>Al Pacino</td>\n",
              "      <td>Robert De Niro</td>\n",
              "      <td>Robert Duvall</td>\n",
              "      <td>Diane Keaton</td>\n",
              "      <td>1129952</td>\n",
              "      <td>57,300,000</td>\n",
              "    </tr>\n",
              "    <tr>\n",
              "      <th>4</th>\n",
              "      <td>https://m.media-amazon.com/images/M/MV5BMWU4N2...</td>\n",
              "      <td>12 Angry Men</td>\n",
              "      <td>1957</td>\n",
              "      <td>U</td>\n",
              "      <td>96 min</td>\n",
              "      <td>Crime, Drama</td>\n",
              "      <td>9.0</td>\n",
              "      <td>A jury holdout attempts to prevent a miscarria...</td>\n",
              "      <td>96.0</td>\n",
              "      <td>Sidney Lumet</td>\n",
              "      <td>Henry Fonda</td>\n",
              "      <td>Lee J. Cobb</td>\n",
              "      <td>Martin Balsam</td>\n",
              "      <td>John Fiedler</td>\n",
              "      <td>689845</td>\n",
              "      <td>4,360,000</td>\n",
              "    </tr>\n",
              "    <tr>\n",
              "      <th>...</th>\n",
              "      <td>...</td>\n",
              "      <td>...</td>\n",
              "      <td>...</td>\n",
              "      <td>...</td>\n",
              "      <td>...</td>\n",
              "      <td>...</td>\n",
              "      <td>...</td>\n",
              "      <td>...</td>\n",
              "      <td>...</td>\n",
              "      <td>...</td>\n",
              "      <td>...</td>\n",
              "      <td>...</td>\n",
              "      <td>...</td>\n",
              "      <td>...</td>\n",
              "      <td>...</td>\n",
              "      <td>...</td>\n",
              "    </tr>\n",
              "    <tr>\n",
              "      <th>995</th>\n",
              "      <td>https://m.media-amazon.com/images/M/MV5BNGEwMT...</td>\n",
              "      <td>Breakfast at Tiffany's</td>\n",
              "      <td>1961</td>\n",
              "      <td>A</td>\n",
              "      <td>115 min</td>\n",
              "      <td>Comedy, Drama, Romance</td>\n",
              "      <td>7.6</td>\n",
              "      <td>A young New York socialite becomes interested ...</td>\n",
              "      <td>76.0</td>\n",
              "      <td>Blake Edwards</td>\n",
              "      <td>Audrey Hepburn</td>\n",
              "      <td>George Peppard</td>\n",
              "      <td>Patricia Neal</td>\n",
              "      <td>Buddy Ebsen</td>\n",
              "      <td>166544</td>\n",
              "      <td>NaN</td>\n",
              "    </tr>\n",
              "    <tr>\n",
              "      <th>996</th>\n",
              "      <td>https://m.media-amazon.com/images/M/MV5BODk3Yj...</td>\n",
              "      <td>Giant</td>\n",
              "      <td>1956</td>\n",
              "      <td>G</td>\n",
              "      <td>201 min</td>\n",
              "      <td>Drama, Western</td>\n",
              "      <td>7.6</td>\n",
              "      <td>Sprawling epic covering the life of a Texas ca...</td>\n",
              "      <td>84.0</td>\n",
              "      <td>George Stevens</td>\n",
              "      <td>Elizabeth Taylor</td>\n",
              "      <td>Rock Hudson</td>\n",
              "      <td>James Dean</td>\n",
              "      <td>Carroll Baker</td>\n",
              "      <td>34075</td>\n",
              "      <td>NaN</td>\n",
              "    </tr>\n",
              "    <tr>\n",
              "      <th>997</th>\n",
              "      <td>https://m.media-amazon.com/images/M/MV5BM2U3Yz...</td>\n",
              "      <td>From Here to Eternity</td>\n",
              "      <td>1953</td>\n",
              "      <td>Passed</td>\n",
              "      <td>118 min</td>\n",
              "      <td>Drama, Romance, War</td>\n",
              "      <td>7.6</td>\n",
              "      <td>In Hawaii in 1941, a private is cruelly punish...</td>\n",
              "      <td>85.0</td>\n",
              "      <td>Fred Zinnemann</td>\n",
              "      <td>Burt Lancaster</td>\n",
              "      <td>Montgomery Clift</td>\n",
              "      <td>Deborah Kerr</td>\n",
              "      <td>Donna Reed</td>\n",
              "      <td>43374</td>\n",
              "      <td>30,500,000</td>\n",
              "    </tr>\n",
              "    <tr>\n",
              "      <th>998</th>\n",
              "      <td>https://m.media-amazon.com/images/M/MV5BZTBmMj...</td>\n",
              "      <td>Lifeboat</td>\n",
              "      <td>1944</td>\n",
              "      <td>NaN</td>\n",
              "      <td>97 min</td>\n",
              "      <td>Drama, War</td>\n",
              "      <td>7.6</td>\n",
              "      <td>Several survivors of a torpedoed merchant ship...</td>\n",
              "      <td>78.0</td>\n",
              "      <td>Alfred Hitchcock</td>\n",
              "      <td>Tallulah Bankhead</td>\n",
              "      <td>John Hodiak</td>\n",
              "      <td>Walter Slezak</td>\n",
              "      <td>William Bendix</td>\n",
              "      <td>26471</td>\n",
              "      <td>NaN</td>\n",
              "    </tr>\n",
              "    <tr>\n",
              "      <th>999</th>\n",
              "      <td>https://m.media-amazon.com/images/M/MV5BMTY5OD...</td>\n",
              "      <td>The 39 Steps</td>\n",
              "      <td>1935</td>\n",
              "      <td>NaN</td>\n",
              "      <td>86 min</td>\n",
              "      <td>Crime, Mystery, Thriller</td>\n",
              "      <td>7.6</td>\n",
              "      <td>A man in London tries to help a counter-espion...</td>\n",
              "      <td>93.0</td>\n",
              "      <td>Alfred Hitchcock</td>\n",
              "      <td>Robert Donat</td>\n",
              "      <td>Madeleine Carroll</td>\n",
              "      <td>Lucie Mannheim</td>\n",
              "      <td>Godfrey Tearle</td>\n",
              "      <td>51853</td>\n",
              "      <td>NaN</td>\n",
              "    </tr>\n",
              "  </tbody>\n",
              "</table>\n",
              "<p>1000 rows × 16 columns</p>\n",
              "</div>\n",
              "      <button class=\"colab-df-convert\" onclick=\"convertToInteractive('df-614dfeee-29ff-4d15-930a-f17bd874decd')\"\n",
              "              title=\"Convert this dataframe to an interactive table.\"\n",
              "              style=\"display:none;\">\n",
              "        \n",
              "  <svg xmlns=\"http://www.w3.org/2000/svg\" height=\"24px\"viewBox=\"0 0 24 24\"\n",
              "       width=\"24px\">\n",
              "    <path d=\"M0 0h24v24H0V0z\" fill=\"none\"/>\n",
              "    <path d=\"M18.56 5.44l.94 2.06.94-2.06 2.06-.94-2.06-.94-.94-2.06-.94 2.06-2.06.94zm-11 1L8.5 8.5l.94-2.06 2.06-.94-2.06-.94L8.5 2.5l-.94 2.06-2.06.94zm10 10l.94 2.06.94-2.06 2.06-.94-2.06-.94-.94-2.06-.94 2.06-2.06.94z\"/><path d=\"M17.41 7.96l-1.37-1.37c-.4-.4-.92-.59-1.43-.59-.52 0-1.04.2-1.43.59L10.3 9.45l-7.72 7.72c-.78.78-.78 2.05 0 2.83L4 21.41c.39.39.9.59 1.41.59.51 0 1.02-.2 1.41-.59l7.78-7.78 2.81-2.81c.8-.78.8-2.07 0-2.86zM5.41 20L4 18.59l7.72-7.72 1.47 1.35L5.41 20z\"/>\n",
              "  </svg>\n",
              "      </button>\n",
              "      \n",
              "  <style>\n",
              "    .colab-df-container {\n",
              "      display:flex;\n",
              "      flex-wrap:wrap;\n",
              "      gap: 12px;\n",
              "    }\n",
              "\n",
              "    .colab-df-convert {\n",
              "      background-color: #E8F0FE;\n",
              "      border: none;\n",
              "      border-radius: 50%;\n",
              "      cursor: pointer;\n",
              "      display: none;\n",
              "      fill: #1967D2;\n",
              "      height: 32px;\n",
              "      padding: 0 0 0 0;\n",
              "      width: 32px;\n",
              "    }\n",
              "\n",
              "    .colab-df-convert:hover {\n",
              "      background-color: #E2EBFA;\n",
              "      box-shadow: 0px 1px 2px rgba(60, 64, 67, 0.3), 0px 1px 3px 1px rgba(60, 64, 67, 0.15);\n",
              "      fill: #174EA6;\n",
              "    }\n",
              "\n",
              "    [theme=dark] .colab-df-convert {\n",
              "      background-color: #3B4455;\n",
              "      fill: #D2E3FC;\n",
              "    }\n",
              "\n",
              "    [theme=dark] .colab-df-convert:hover {\n",
              "      background-color: #434B5C;\n",
              "      box-shadow: 0px 1px 3px 1px rgba(0, 0, 0, 0.15);\n",
              "      filter: drop-shadow(0px 1px 2px rgba(0, 0, 0, 0.3));\n",
              "      fill: #FFFFFF;\n",
              "    }\n",
              "  </style>\n",
              "\n",
              "      <script>\n",
              "        const buttonEl =\n",
              "          document.querySelector('#df-614dfeee-29ff-4d15-930a-f17bd874decd button.colab-df-convert');\n",
              "        buttonEl.style.display =\n",
              "          google.colab.kernel.accessAllowed ? 'block' : 'none';\n",
              "\n",
              "        async function convertToInteractive(key) {\n",
              "          const element = document.querySelector('#df-614dfeee-29ff-4d15-930a-f17bd874decd');\n",
              "          const dataTable =\n",
              "            await google.colab.kernel.invokeFunction('convertToInteractive',\n",
              "                                                     [key], {});\n",
              "          if (!dataTable) return;\n",
              "\n",
              "          const docLinkHtml = 'Like what you see? Visit the ' +\n",
              "            '<a target=\"_blank\" href=https://colab.research.google.com/notebooks/data_table.ipynb>data table notebook</a>'\n",
              "            + ' to learn more about interactive tables.';\n",
              "          element.innerHTML = '';\n",
              "          dataTable['output_type'] = 'display_data';\n",
              "          await google.colab.output.renderOutput(dataTable, element);\n",
              "          const docLink = document.createElement('div');\n",
              "          docLink.innerHTML = docLinkHtml;\n",
              "          element.appendChild(docLink);\n",
              "        }\n",
              "      </script>\n",
              "    </div>\n",
              "  </div>\n",
              "  "
            ]
          },
          "metadata": {},
          "execution_count": 98
        }
      ]
    },
    {
      "cell_type": "code",
      "source": [
        "\n"
      ],
      "metadata": {
        "id": "HFrVetMfuLOf"
      },
      "execution_count": 98,
      "outputs": []
    },
    {
      "cell_type": "markdown",
      "source": [
        "# New Section"
      ],
      "metadata": {
        "id": "ckoQ2Hzgj9OM"
      }
    },
    {
      "cell_type": "markdown",
      "source": [
        "Display shape of dataframe"
      ],
      "metadata": {
        "id": "EifdwomBRPxy"
      }
    },
    {
      "cell_type": "code",
      "source": [
        "df.shape"
      ],
      "metadata": {
        "id": "lM8S9INfRSt3",
        "outputId": "26abf816-e67b-4be4-8a28-bcbc1e4c8de2",
        "colab": {
          "base_uri": "https://localhost:8080/"
        }
      },
      "execution_count": 99,
      "outputs": [
        {
          "output_type": "execute_result",
          "data": {
            "text/plain": [
              "(1000, 16)"
            ]
          },
          "metadata": {},
          "execution_count": 99
        }
      ]
    },
    {
      "cell_type": "markdown",
      "source": [
        "Print all columns of dataframe"
      ],
      "metadata": {
        "id": "Q9xTIt54RVTY"
      }
    },
    {
      "cell_type": "code",
      "source": [
        "df.columns"
      ],
      "metadata": {
        "id": "kn3VPvn6RV4_",
        "outputId": "d0198b03-0b6c-4916-f499-2b01ca437507",
        "colab": {
          "base_uri": "https://localhost:8080/"
        }
      },
      "execution_count": 100,
      "outputs": [
        {
          "output_type": "execute_result",
          "data": {
            "text/plain": [
              "Index(['Poster_Link', 'Series_Title', 'Released_Year', 'Certificate',\n",
              "       'Runtime', 'Genre', 'IMDB_Rating', 'Overview', 'Meta_score', 'Director',\n",
              "       'Star1', 'Star2', 'Star3', 'Star4', 'No_of_Votes', 'Gross'],\n",
              "      dtype='object')"
            ]
          },
          "metadata": {},
          "execution_count": 100
        }
      ]
    },
    {
      "cell_type": "markdown",
      "source": [
        "Remove the column 'Poster_Link' and update the dataframe."
      ],
      "metadata": {
        "id": "3jtm084KRleN"
      }
    },
    {
      "cell_type": "code",
      "source": [
        "df.drop(columns = 'Poster_Link', inplace = True)\n",
        "df.head()"
      ],
      "metadata": {
        "id": "zYIz3q0ARnuU",
        "outputId": "ffbb4007-0d13-41a1-95d8-1f60dba93f8a",
        "colab": {
          "base_uri": "https://localhost:8080/",
          "height": 423
        }
      },
      "execution_count": 101,
      "outputs": [
        {
          "output_type": "execute_result",
          "data": {
            "text/plain": [
              "               Series_Title Released_Year Certificate  Runtime  \\\n",
              "0  The Shawshank Redemption          1994           A  142 min   \n",
              "1             The Godfather          1972           A  175 min   \n",
              "2           The Dark Knight          2008          UA  152 min   \n",
              "3    The Godfather: Part II          1974           A  202 min   \n",
              "4              12 Angry Men          1957           U   96 min   \n",
              "\n",
              "                  Genre  IMDB_Rating  \\\n",
              "0                 Drama          9.3   \n",
              "1          Crime, Drama          9.2   \n",
              "2  Action, Crime, Drama          9.0   \n",
              "3          Crime, Drama          9.0   \n",
              "4          Crime, Drama          9.0   \n",
              "\n",
              "                                            Overview  Meta_score  \\\n",
              "0  Two imprisoned men bond over a number of years...        80.0   \n",
              "1  An organized crime dynasty's aging patriarch t...       100.0   \n",
              "2  When the menace known as the Joker wreaks havo...        84.0   \n",
              "3  The early life and career of Vito Corleone in ...        90.0   \n",
              "4  A jury holdout attempts to prevent a miscarria...        96.0   \n",
              "\n",
              "               Director           Star1           Star2          Star3  \\\n",
              "0        Frank Darabont     Tim Robbins  Morgan Freeman     Bob Gunton   \n",
              "1  Francis Ford Coppola   Marlon Brando       Al Pacino     James Caan   \n",
              "2     Christopher Nolan  Christian Bale    Heath Ledger  Aaron Eckhart   \n",
              "3  Francis Ford Coppola       Al Pacino  Robert De Niro  Robert Duvall   \n",
              "4          Sidney Lumet     Henry Fonda     Lee J. Cobb  Martin Balsam   \n",
              "\n",
              "            Star4  No_of_Votes        Gross  \n",
              "0  William Sadler      2343110   28,341,469  \n",
              "1    Diane Keaton      1620367  134,966,411  \n",
              "2   Michael Caine      2303232  534,858,444  \n",
              "3    Diane Keaton      1129952   57,300,000  \n",
              "4    John Fiedler       689845    4,360,000  "
            ],
            "text/html": [
              "\n",
              "  <div id=\"df-ff99b30d-ad3e-47ae-9403-3ea33b8dffb9\">\n",
              "    <div class=\"colab-df-container\">\n",
              "      <div>\n",
              "<style scoped>\n",
              "    .dataframe tbody tr th:only-of-type {\n",
              "        vertical-align: middle;\n",
              "    }\n",
              "\n",
              "    .dataframe tbody tr th {\n",
              "        vertical-align: top;\n",
              "    }\n",
              "\n",
              "    .dataframe thead th {\n",
              "        text-align: right;\n",
              "    }\n",
              "</style>\n",
              "<table border=\"1\" class=\"dataframe\">\n",
              "  <thead>\n",
              "    <tr style=\"text-align: right;\">\n",
              "      <th></th>\n",
              "      <th>Series_Title</th>\n",
              "      <th>Released_Year</th>\n",
              "      <th>Certificate</th>\n",
              "      <th>Runtime</th>\n",
              "      <th>Genre</th>\n",
              "      <th>IMDB_Rating</th>\n",
              "      <th>Overview</th>\n",
              "      <th>Meta_score</th>\n",
              "      <th>Director</th>\n",
              "      <th>Star1</th>\n",
              "      <th>Star2</th>\n",
              "      <th>Star3</th>\n",
              "      <th>Star4</th>\n",
              "      <th>No_of_Votes</th>\n",
              "      <th>Gross</th>\n",
              "    </tr>\n",
              "  </thead>\n",
              "  <tbody>\n",
              "    <tr>\n",
              "      <th>0</th>\n",
              "      <td>The Shawshank Redemption</td>\n",
              "      <td>1994</td>\n",
              "      <td>A</td>\n",
              "      <td>142 min</td>\n",
              "      <td>Drama</td>\n",
              "      <td>9.3</td>\n",
              "      <td>Two imprisoned men bond over a number of years...</td>\n",
              "      <td>80.0</td>\n",
              "      <td>Frank Darabont</td>\n",
              "      <td>Tim Robbins</td>\n",
              "      <td>Morgan Freeman</td>\n",
              "      <td>Bob Gunton</td>\n",
              "      <td>William Sadler</td>\n",
              "      <td>2343110</td>\n",
              "      <td>28,341,469</td>\n",
              "    </tr>\n",
              "    <tr>\n",
              "      <th>1</th>\n",
              "      <td>The Godfather</td>\n",
              "      <td>1972</td>\n",
              "      <td>A</td>\n",
              "      <td>175 min</td>\n",
              "      <td>Crime, Drama</td>\n",
              "      <td>9.2</td>\n",
              "      <td>An organized crime dynasty's aging patriarch t...</td>\n",
              "      <td>100.0</td>\n",
              "      <td>Francis Ford Coppola</td>\n",
              "      <td>Marlon Brando</td>\n",
              "      <td>Al Pacino</td>\n",
              "      <td>James Caan</td>\n",
              "      <td>Diane Keaton</td>\n",
              "      <td>1620367</td>\n",
              "      <td>134,966,411</td>\n",
              "    </tr>\n",
              "    <tr>\n",
              "      <th>2</th>\n",
              "      <td>The Dark Knight</td>\n",
              "      <td>2008</td>\n",
              "      <td>UA</td>\n",
              "      <td>152 min</td>\n",
              "      <td>Action, Crime, Drama</td>\n",
              "      <td>9.0</td>\n",
              "      <td>When the menace known as the Joker wreaks havo...</td>\n",
              "      <td>84.0</td>\n",
              "      <td>Christopher Nolan</td>\n",
              "      <td>Christian Bale</td>\n",
              "      <td>Heath Ledger</td>\n",
              "      <td>Aaron Eckhart</td>\n",
              "      <td>Michael Caine</td>\n",
              "      <td>2303232</td>\n",
              "      <td>534,858,444</td>\n",
              "    </tr>\n",
              "    <tr>\n",
              "      <th>3</th>\n",
              "      <td>The Godfather: Part II</td>\n",
              "      <td>1974</td>\n",
              "      <td>A</td>\n",
              "      <td>202 min</td>\n",
              "      <td>Crime, Drama</td>\n",
              "      <td>9.0</td>\n",
              "      <td>The early life and career of Vito Corleone in ...</td>\n",
              "      <td>90.0</td>\n",
              "      <td>Francis Ford Coppola</td>\n",
              "      <td>Al Pacino</td>\n",
              "      <td>Robert De Niro</td>\n",
              "      <td>Robert Duvall</td>\n",
              "      <td>Diane Keaton</td>\n",
              "      <td>1129952</td>\n",
              "      <td>57,300,000</td>\n",
              "    </tr>\n",
              "    <tr>\n",
              "      <th>4</th>\n",
              "      <td>12 Angry Men</td>\n",
              "      <td>1957</td>\n",
              "      <td>U</td>\n",
              "      <td>96 min</td>\n",
              "      <td>Crime, Drama</td>\n",
              "      <td>9.0</td>\n",
              "      <td>A jury holdout attempts to prevent a miscarria...</td>\n",
              "      <td>96.0</td>\n",
              "      <td>Sidney Lumet</td>\n",
              "      <td>Henry Fonda</td>\n",
              "      <td>Lee J. Cobb</td>\n",
              "      <td>Martin Balsam</td>\n",
              "      <td>John Fiedler</td>\n",
              "      <td>689845</td>\n",
              "      <td>4,360,000</td>\n",
              "    </tr>\n",
              "  </tbody>\n",
              "</table>\n",
              "</div>\n",
              "      <button class=\"colab-df-convert\" onclick=\"convertToInteractive('df-ff99b30d-ad3e-47ae-9403-3ea33b8dffb9')\"\n",
              "              title=\"Convert this dataframe to an interactive table.\"\n",
              "              style=\"display:none;\">\n",
              "        \n",
              "  <svg xmlns=\"http://www.w3.org/2000/svg\" height=\"24px\"viewBox=\"0 0 24 24\"\n",
              "       width=\"24px\">\n",
              "    <path d=\"M0 0h24v24H0V0z\" fill=\"none\"/>\n",
              "    <path d=\"M18.56 5.44l.94 2.06.94-2.06 2.06-.94-2.06-.94-.94-2.06-.94 2.06-2.06.94zm-11 1L8.5 8.5l.94-2.06 2.06-.94-2.06-.94L8.5 2.5l-.94 2.06-2.06.94zm10 10l.94 2.06.94-2.06 2.06-.94-2.06-.94-.94-2.06-.94 2.06-2.06.94z\"/><path d=\"M17.41 7.96l-1.37-1.37c-.4-.4-.92-.59-1.43-.59-.52 0-1.04.2-1.43.59L10.3 9.45l-7.72 7.72c-.78.78-.78 2.05 0 2.83L4 21.41c.39.39.9.59 1.41.59.51 0 1.02-.2 1.41-.59l7.78-7.78 2.81-2.81c.8-.78.8-2.07 0-2.86zM5.41 20L4 18.59l7.72-7.72 1.47 1.35L5.41 20z\"/>\n",
              "  </svg>\n",
              "      </button>\n",
              "      \n",
              "  <style>\n",
              "    .colab-df-container {\n",
              "      display:flex;\n",
              "      flex-wrap:wrap;\n",
              "      gap: 12px;\n",
              "    }\n",
              "\n",
              "    .colab-df-convert {\n",
              "      background-color: #E8F0FE;\n",
              "      border: none;\n",
              "      border-radius: 50%;\n",
              "      cursor: pointer;\n",
              "      display: none;\n",
              "      fill: #1967D2;\n",
              "      height: 32px;\n",
              "      padding: 0 0 0 0;\n",
              "      width: 32px;\n",
              "    }\n",
              "\n",
              "    .colab-df-convert:hover {\n",
              "      background-color: #E2EBFA;\n",
              "      box-shadow: 0px 1px 2px rgba(60, 64, 67, 0.3), 0px 1px 3px 1px rgba(60, 64, 67, 0.15);\n",
              "      fill: #174EA6;\n",
              "    }\n",
              "\n",
              "    [theme=dark] .colab-df-convert {\n",
              "      background-color: #3B4455;\n",
              "      fill: #D2E3FC;\n",
              "    }\n",
              "\n",
              "    [theme=dark] .colab-df-convert:hover {\n",
              "      background-color: #434B5C;\n",
              "      box-shadow: 0px 1px 3px 1px rgba(0, 0, 0, 0.15);\n",
              "      filter: drop-shadow(0px 1px 2px rgba(0, 0, 0, 0.3));\n",
              "      fill: #FFFFFF;\n",
              "    }\n",
              "  </style>\n",
              "\n",
              "      <script>\n",
              "        const buttonEl =\n",
              "          document.querySelector('#df-ff99b30d-ad3e-47ae-9403-3ea33b8dffb9 button.colab-df-convert');\n",
              "        buttonEl.style.display =\n",
              "          google.colab.kernel.accessAllowed ? 'block' : 'none';\n",
              "\n",
              "        async function convertToInteractive(key) {\n",
              "          const element = document.querySelector('#df-ff99b30d-ad3e-47ae-9403-3ea33b8dffb9');\n",
              "          const dataTable =\n",
              "            await google.colab.kernel.invokeFunction('convertToInteractive',\n",
              "                                                     [key], {});\n",
              "          if (!dataTable) return;\n",
              "\n",
              "          const docLinkHtml = 'Like what you see? Visit the ' +\n",
              "            '<a target=\"_blank\" href=https://colab.research.google.com/notebooks/data_table.ipynb>data table notebook</a>'\n",
              "            + ' to learn more about interactive tables.';\n",
              "          element.innerHTML = '';\n",
              "          dataTable['output_type'] = 'display_data';\n",
              "          await google.colab.output.renderOutput(dataTable, element);\n",
              "          const docLink = document.createElement('div');\n",
              "          docLink.innerHTML = docLinkHtml;\n",
              "          element.appendChild(docLink);\n",
              "        }\n",
              "      </script>\n",
              "    </div>\n",
              "  </div>\n",
              "  "
            ]
          },
          "metadata": {},
          "execution_count": 101
        }
      ]
    },
    {
      "cell_type": "markdown",
      "source": [
        "Set the 'Series_Title' column as the index of dataframe"
      ],
      "metadata": {
        "id": "ss6QYp4YRrfY"
      }
    },
    {
      "cell_type": "code",
      "source": [
        "column_copy = df['Series_Title'].copy()\n",
        "df.set_index(column_copy, inplace=True)\n",
        "df"
      ],
      "metadata": {
        "id": "iXNaEmTkR3tB",
        "outputId": "ffd6ae01-9432-428c-e2e4-f449047b0ed0",
        "colab": {
          "base_uri": "https://localhost:8080/",
          "height": 1000
        }
      },
      "execution_count": 102,
      "outputs": [
        {
          "output_type": "execute_result",
          "data": {
            "text/plain": [
              "                                      Series_Title Released_Year Certificate  \\\n",
              "Series_Title                                                                   \n",
              "The Shawshank Redemption  The Shawshank Redemption          1994           A   \n",
              "The Godfather                        The Godfather          1972           A   \n",
              "The Dark Knight                    The Dark Knight          2008          UA   \n",
              "The Godfather: Part II      The Godfather: Part II          1974           A   \n",
              "12 Angry Men                          12 Angry Men          1957           U   \n",
              "...                                            ...           ...         ...   \n",
              "Breakfast at Tiffany's      Breakfast at Tiffany's          1961           A   \n",
              "Giant                                        Giant          1956           G   \n",
              "From Here to Eternity        From Here to Eternity          1953      Passed   \n",
              "Lifeboat                                  Lifeboat          1944         NaN   \n",
              "The 39 Steps                          The 39 Steps          1935         NaN   \n",
              "\n",
              "                          Runtime                     Genre  IMDB_Rating  \\\n",
              "Series_Title                                                               \n",
              "The Shawshank Redemption  142 min                     Drama          9.3   \n",
              "The Godfather             175 min              Crime, Drama          9.2   \n",
              "The Dark Knight           152 min      Action, Crime, Drama          9.0   \n",
              "The Godfather: Part II    202 min              Crime, Drama          9.0   \n",
              "12 Angry Men               96 min              Crime, Drama          9.0   \n",
              "...                           ...                       ...          ...   \n",
              "Breakfast at Tiffany's    115 min    Comedy, Drama, Romance          7.6   \n",
              "Giant                     201 min            Drama, Western          7.6   \n",
              "From Here to Eternity     118 min       Drama, Romance, War          7.6   \n",
              "Lifeboat                   97 min                Drama, War          7.6   \n",
              "The 39 Steps               86 min  Crime, Mystery, Thriller          7.6   \n",
              "\n",
              "                                                                   Overview  \\\n",
              "Series_Title                                                                  \n",
              "The Shawshank Redemption  Two imprisoned men bond over a number of years...   \n",
              "The Godfather             An organized crime dynasty's aging patriarch t...   \n",
              "The Dark Knight           When the menace known as the Joker wreaks havo...   \n",
              "The Godfather: Part II    The early life and career of Vito Corleone in ...   \n",
              "12 Angry Men              A jury holdout attempts to prevent a miscarria...   \n",
              "...                                                                     ...   \n",
              "Breakfast at Tiffany's    A young New York socialite becomes interested ...   \n",
              "Giant                     Sprawling epic covering the life of a Texas ca...   \n",
              "From Here to Eternity     In Hawaii in 1941, a private is cruelly punish...   \n",
              "Lifeboat                  Several survivors of a torpedoed merchant ship...   \n",
              "The 39 Steps              A man in London tries to help a counter-espion...   \n",
              "\n",
              "                          Meta_score              Director              Star1  \\\n",
              "Series_Title                                                                    \n",
              "The Shawshank Redemption        80.0        Frank Darabont        Tim Robbins   \n",
              "The Godfather                  100.0  Francis Ford Coppola      Marlon Brando   \n",
              "The Dark Knight                 84.0     Christopher Nolan     Christian Bale   \n",
              "The Godfather: Part II          90.0  Francis Ford Coppola          Al Pacino   \n",
              "12 Angry Men                    96.0          Sidney Lumet        Henry Fonda   \n",
              "...                              ...                   ...                ...   \n",
              "Breakfast at Tiffany's          76.0         Blake Edwards     Audrey Hepburn   \n",
              "Giant                           84.0        George Stevens   Elizabeth Taylor   \n",
              "From Here to Eternity           85.0        Fred Zinnemann     Burt Lancaster   \n",
              "Lifeboat                        78.0      Alfred Hitchcock  Tallulah Bankhead   \n",
              "The 39 Steps                    93.0      Alfred Hitchcock       Robert Donat   \n",
              "\n",
              "                                      Star2           Star3           Star4  \\\n",
              "Series_Title                                                                  \n",
              "The Shawshank Redemption     Morgan Freeman      Bob Gunton  William Sadler   \n",
              "The Godfather                     Al Pacino      James Caan    Diane Keaton   \n",
              "The Dark Knight                Heath Ledger   Aaron Eckhart   Michael Caine   \n",
              "The Godfather: Part II       Robert De Niro   Robert Duvall    Diane Keaton   \n",
              "12 Angry Men                    Lee J. Cobb   Martin Balsam    John Fiedler   \n",
              "...                                     ...             ...             ...   \n",
              "Breakfast at Tiffany's       George Peppard   Patricia Neal     Buddy Ebsen   \n",
              "Giant                           Rock Hudson      James Dean   Carroll Baker   \n",
              "From Here to Eternity      Montgomery Clift    Deborah Kerr      Donna Reed   \n",
              "Lifeboat                        John Hodiak   Walter Slezak  William Bendix   \n",
              "The 39 Steps              Madeleine Carroll  Lucie Mannheim  Godfrey Tearle   \n",
              "\n",
              "                          No_of_Votes        Gross  \n",
              "Series_Title                                        \n",
              "The Shawshank Redemption      2343110   28,341,469  \n",
              "The Godfather                 1620367  134,966,411  \n",
              "The Dark Knight               2303232  534,858,444  \n",
              "The Godfather: Part II        1129952   57,300,000  \n",
              "12 Angry Men                   689845    4,360,000  \n",
              "...                               ...          ...  \n",
              "Breakfast at Tiffany's         166544          NaN  \n",
              "Giant                           34075          NaN  \n",
              "From Here to Eternity           43374   30,500,000  \n",
              "Lifeboat                        26471          NaN  \n",
              "The 39 Steps                    51853          NaN  \n",
              "\n",
              "[1000 rows x 15 columns]"
            ],
            "text/html": [
              "\n",
              "  <div id=\"df-3ec6d0cc-4e5b-4fcb-926a-e4e1deb08693\">\n",
              "    <div class=\"colab-df-container\">\n",
              "      <div>\n",
              "<style scoped>\n",
              "    .dataframe tbody tr th:only-of-type {\n",
              "        vertical-align: middle;\n",
              "    }\n",
              "\n",
              "    .dataframe tbody tr th {\n",
              "        vertical-align: top;\n",
              "    }\n",
              "\n",
              "    .dataframe thead th {\n",
              "        text-align: right;\n",
              "    }\n",
              "</style>\n",
              "<table border=\"1\" class=\"dataframe\">\n",
              "  <thead>\n",
              "    <tr style=\"text-align: right;\">\n",
              "      <th></th>\n",
              "      <th>Series_Title</th>\n",
              "      <th>Released_Year</th>\n",
              "      <th>Certificate</th>\n",
              "      <th>Runtime</th>\n",
              "      <th>Genre</th>\n",
              "      <th>IMDB_Rating</th>\n",
              "      <th>Overview</th>\n",
              "      <th>Meta_score</th>\n",
              "      <th>Director</th>\n",
              "      <th>Star1</th>\n",
              "      <th>Star2</th>\n",
              "      <th>Star3</th>\n",
              "      <th>Star4</th>\n",
              "      <th>No_of_Votes</th>\n",
              "      <th>Gross</th>\n",
              "    </tr>\n",
              "    <tr>\n",
              "      <th>Series_Title</th>\n",
              "      <th></th>\n",
              "      <th></th>\n",
              "      <th></th>\n",
              "      <th></th>\n",
              "      <th></th>\n",
              "      <th></th>\n",
              "      <th></th>\n",
              "      <th></th>\n",
              "      <th></th>\n",
              "      <th></th>\n",
              "      <th></th>\n",
              "      <th></th>\n",
              "      <th></th>\n",
              "      <th></th>\n",
              "      <th></th>\n",
              "    </tr>\n",
              "  </thead>\n",
              "  <tbody>\n",
              "    <tr>\n",
              "      <th>The Shawshank Redemption</th>\n",
              "      <td>The Shawshank Redemption</td>\n",
              "      <td>1994</td>\n",
              "      <td>A</td>\n",
              "      <td>142 min</td>\n",
              "      <td>Drama</td>\n",
              "      <td>9.3</td>\n",
              "      <td>Two imprisoned men bond over a number of years...</td>\n",
              "      <td>80.0</td>\n",
              "      <td>Frank Darabont</td>\n",
              "      <td>Tim Robbins</td>\n",
              "      <td>Morgan Freeman</td>\n",
              "      <td>Bob Gunton</td>\n",
              "      <td>William Sadler</td>\n",
              "      <td>2343110</td>\n",
              "      <td>28,341,469</td>\n",
              "    </tr>\n",
              "    <tr>\n",
              "      <th>The Godfather</th>\n",
              "      <td>The Godfather</td>\n",
              "      <td>1972</td>\n",
              "      <td>A</td>\n",
              "      <td>175 min</td>\n",
              "      <td>Crime, Drama</td>\n",
              "      <td>9.2</td>\n",
              "      <td>An organized crime dynasty's aging patriarch t...</td>\n",
              "      <td>100.0</td>\n",
              "      <td>Francis Ford Coppola</td>\n",
              "      <td>Marlon Brando</td>\n",
              "      <td>Al Pacino</td>\n",
              "      <td>James Caan</td>\n",
              "      <td>Diane Keaton</td>\n",
              "      <td>1620367</td>\n",
              "      <td>134,966,411</td>\n",
              "    </tr>\n",
              "    <tr>\n",
              "      <th>The Dark Knight</th>\n",
              "      <td>The Dark Knight</td>\n",
              "      <td>2008</td>\n",
              "      <td>UA</td>\n",
              "      <td>152 min</td>\n",
              "      <td>Action, Crime, Drama</td>\n",
              "      <td>9.0</td>\n",
              "      <td>When the menace known as the Joker wreaks havo...</td>\n",
              "      <td>84.0</td>\n",
              "      <td>Christopher Nolan</td>\n",
              "      <td>Christian Bale</td>\n",
              "      <td>Heath Ledger</td>\n",
              "      <td>Aaron Eckhart</td>\n",
              "      <td>Michael Caine</td>\n",
              "      <td>2303232</td>\n",
              "      <td>534,858,444</td>\n",
              "    </tr>\n",
              "    <tr>\n",
              "      <th>The Godfather: Part II</th>\n",
              "      <td>The Godfather: Part II</td>\n",
              "      <td>1974</td>\n",
              "      <td>A</td>\n",
              "      <td>202 min</td>\n",
              "      <td>Crime, Drama</td>\n",
              "      <td>9.0</td>\n",
              "      <td>The early life and career of Vito Corleone in ...</td>\n",
              "      <td>90.0</td>\n",
              "      <td>Francis Ford Coppola</td>\n",
              "      <td>Al Pacino</td>\n",
              "      <td>Robert De Niro</td>\n",
              "      <td>Robert Duvall</td>\n",
              "      <td>Diane Keaton</td>\n",
              "      <td>1129952</td>\n",
              "      <td>57,300,000</td>\n",
              "    </tr>\n",
              "    <tr>\n",
              "      <th>12 Angry Men</th>\n",
              "      <td>12 Angry Men</td>\n",
              "      <td>1957</td>\n",
              "      <td>U</td>\n",
              "      <td>96 min</td>\n",
              "      <td>Crime, Drama</td>\n",
              "      <td>9.0</td>\n",
              "      <td>A jury holdout attempts to prevent a miscarria...</td>\n",
              "      <td>96.0</td>\n",
              "      <td>Sidney Lumet</td>\n",
              "      <td>Henry Fonda</td>\n",
              "      <td>Lee J. Cobb</td>\n",
              "      <td>Martin Balsam</td>\n",
              "      <td>John Fiedler</td>\n",
              "      <td>689845</td>\n",
              "      <td>4,360,000</td>\n",
              "    </tr>\n",
              "    <tr>\n",
              "      <th>...</th>\n",
              "      <td>...</td>\n",
              "      <td>...</td>\n",
              "      <td>...</td>\n",
              "      <td>...</td>\n",
              "      <td>...</td>\n",
              "      <td>...</td>\n",
              "      <td>...</td>\n",
              "      <td>...</td>\n",
              "      <td>...</td>\n",
              "      <td>...</td>\n",
              "      <td>...</td>\n",
              "      <td>...</td>\n",
              "      <td>...</td>\n",
              "      <td>...</td>\n",
              "      <td>...</td>\n",
              "    </tr>\n",
              "    <tr>\n",
              "      <th>Breakfast at Tiffany's</th>\n",
              "      <td>Breakfast at Tiffany's</td>\n",
              "      <td>1961</td>\n",
              "      <td>A</td>\n",
              "      <td>115 min</td>\n",
              "      <td>Comedy, Drama, Romance</td>\n",
              "      <td>7.6</td>\n",
              "      <td>A young New York socialite becomes interested ...</td>\n",
              "      <td>76.0</td>\n",
              "      <td>Blake Edwards</td>\n",
              "      <td>Audrey Hepburn</td>\n",
              "      <td>George Peppard</td>\n",
              "      <td>Patricia Neal</td>\n",
              "      <td>Buddy Ebsen</td>\n",
              "      <td>166544</td>\n",
              "      <td>NaN</td>\n",
              "    </tr>\n",
              "    <tr>\n",
              "      <th>Giant</th>\n",
              "      <td>Giant</td>\n",
              "      <td>1956</td>\n",
              "      <td>G</td>\n",
              "      <td>201 min</td>\n",
              "      <td>Drama, Western</td>\n",
              "      <td>7.6</td>\n",
              "      <td>Sprawling epic covering the life of a Texas ca...</td>\n",
              "      <td>84.0</td>\n",
              "      <td>George Stevens</td>\n",
              "      <td>Elizabeth Taylor</td>\n",
              "      <td>Rock Hudson</td>\n",
              "      <td>James Dean</td>\n",
              "      <td>Carroll Baker</td>\n",
              "      <td>34075</td>\n",
              "      <td>NaN</td>\n",
              "    </tr>\n",
              "    <tr>\n",
              "      <th>From Here to Eternity</th>\n",
              "      <td>From Here to Eternity</td>\n",
              "      <td>1953</td>\n",
              "      <td>Passed</td>\n",
              "      <td>118 min</td>\n",
              "      <td>Drama, Romance, War</td>\n",
              "      <td>7.6</td>\n",
              "      <td>In Hawaii in 1941, a private is cruelly punish...</td>\n",
              "      <td>85.0</td>\n",
              "      <td>Fred Zinnemann</td>\n",
              "      <td>Burt Lancaster</td>\n",
              "      <td>Montgomery Clift</td>\n",
              "      <td>Deborah Kerr</td>\n",
              "      <td>Donna Reed</td>\n",
              "      <td>43374</td>\n",
              "      <td>30,500,000</td>\n",
              "    </tr>\n",
              "    <tr>\n",
              "      <th>Lifeboat</th>\n",
              "      <td>Lifeboat</td>\n",
              "      <td>1944</td>\n",
              "      <td>NaN</td>\n",
              "      <td>97 min</td>\n",
              "      <td>Drama, War</td>\n",
              "      <td>7.6</td>\n",
              "      <td>Several survivors of a torpedoed merchant ship...</td>\n",
              "      <td>78.0</td>\n",
              "      <td>Alfred Hitchcock</td>\n",
              "      <td>Tallulah Bankhead</td>\n",
              "      <td>John Hodiak</td>\n",
              "      <td>Walter Slezak</td>\n",
              "      <td>William Bendix</td>\n",
              "      <td>26471</td>\n",
              "      <td>NaN</td>\n",
              "    </tr>\n",
              "    <tr>\n",
              "      <th>The 39 Steps</th>\n",
              "      <td>The 39 Steps</td>\n",
              "      <td>1935</td>\n",
              "      <td>NaN</td>\n",
              "      <td>86 min</td>\n",
              "      <td>Crime, Mystery, Thriller</td>\n",
              "      <td>7.6</td>\n",
              "      <td>A man in London tries to help a counter-espion...</td>\n",
              "      <td>93.0</td>\n",
              "      <td>Alfred Hitchcock</td>\n",
              "      <td>Robert Donat</td>\n",
              "      <td>Madeleine Carroll</td>\n",
              "      <td>Lucie Mannheim</td>\n",
              "      <td>Godfrey Tearle</td>\n",
              "      <td>51853</td>\n",
              "      <td>NaN</td>\n",
              "    </tr>\n",
              "  </tbody>\n",
              "</table>\n",
              "<p>1000 rows × 15 columns</p>\n",
              "</div>\n",
              "      <button class=\"colab-df-convert\" onclick=\"convertToInteractive('df-3ec6d0cc-4e5b-4fcb-926a-e4e1deb08693')\"\n",
              "              title=\"Convert this dataframe to an interactive table.\"\n",
              "              style=\"display:none;\">\n",
              "        \n",
              "  <svg xmlns=\"http://www.w3.org/2000/svg\" height=\"24px\"viewBox=\"0 0 24 24\"\n",
              "       width=\"24px\">\n",
              "    <path d=\"M0 0h24v24H0V0z\" fill=\"none\"/>\n",
              "    <path d=\"M18.56 5.44l.94 2.06.94-2.06 2.06-.94-2.06-.94-.94-2.06-.94 2.06-2.06.94zm-11 1L8.5 8.5l.94-2.06 2.06-.94-2.06-.94L8.5 2.5l-.94 2.06-2.06.94zm10 10l.94 2.06.94-2.06 2.06-.94-2.06-.94-.94-2.06-.94 2.06-2.06.94z\"/><path d=\"M17.41 7.96l-1.37-1.37c-.4-.4-.92-.59-1.43-.59-.52 0-1.04.2-1.43.59L10.3 9.45l-7.72 7.72c-.78.78-.78 2.05 0 2.83L4 21.41c.39.39.9.59 1.41.59.51 0 1.02-.2 1.41-.59l7.78-7.78 2.81-2.81c.8-.78.8-2.07 0-2.86zM5.41 20L4 18.59l7.72-7.72 1.47 1.35L5.41 20z\"/>\n",
              "  </svg>\n",
              "      </button>\n",
              "      \n",
              "  <style>\n",
              "    .colab-df-container {\n",
              "      display:flex;\n",
              "      flex-wrap:wrap;\n",
              "      gap: 12px;\n",
              "    }\n",
              "\n",
              "    .colab-df-convert {\n",
              "      background-color: #E8F0FE;\n",
              "      border: none;\n",
              "      border-radius: 50%;\n",
              "      cursor: pointer;\n",
              "      display: none;\n",
              "      fill: #1967D2;\n",
              "      height: 32px;\n",
              "      padding: 0 0 0 0;\n",
              "      width: 32px;\n",
              "    }\n",
              "\n",
              "    .colab-df-convert:hover {\n",
              "      background-color: #E2EBFA;\n",
              "      box-shadow: 0px 1px 2px rgba(60, 64, 67, 0.3), 0px 1px 3px 1px rgba(60, 64, 67, 0.15);\n",
              "      fill: #174EA6;\n",
              "    }\n",
              "\n",
              "    [theme=dark] .colab-df-convert {\n",
              "      background-color: #3B4455;\n",
              "      fill: #D2E3FC;\n",
              "    }\n",
              "\n",
              "    [theme=dark] .colab-df-convert:hover {\n",
              "      background-color: #434B5C;\n",
              "      box-shadow: 0px 1px 3px 1px rgba(0, 0, 0, 0.15);\n",
              "      filter: drop-shadow(0px 1px 2px rgba(0, 0, 0, 0.3));\n",
              "      fill: #FFFFFF;\n",
              "    }\n",
              "  </style>\n",
              "\n",
              "      <script>\n",
              "        const buttonEl =\n",
              "          document.querySelector('#df-3ec6d0cc-4e5b-4fcb-926a-e4e1deb08693 button.colab-df-convert');\n",
              "        buttonEl.style.display =\n",
              "          google.colab.kernel.accessAllowed ? 'block' : 'none';\n",
              "\n",
              "        async function convertToInteractive(key) {\n",
              "          const element = document.querySelector('#df-3ec6d0cc-4e5b-4fcb-926a-e4e1deb08693');\n",
              "          const dataTable =\n",
              "            await google.colab.kernel.invokeFunction('convertToInteractive',\n",
              "                                                     [key], {});\n",
              "          if (!dataTable) return;\n",
              "\n",
              "          const docLinkHtml = 'Like what you see? Visit the ' +\n",
              "            '<a target=\"_blank\" href=https://colab.research.google.com/notebooks/data_table.ipynb>data table notebook</a>'\n",
              "            + ' to learn more about interactive tables.';\n",
              "          element.innerHTML = '';\n",
              "          dataTable['output_type'] = 'display_data';\n",
              "          await google.colab.output.renderOutput(dataTable, element);\n",
              "          const docLink = document.createElement('div');\n",
              "          docLink.innerHTML = docLinkHtml;\n",
              "          element.appendChild(docLink);\n",
              "        }\n",
              "      </script>\n",
              "    </div>\n",
              "  </div>\n",
              "  "
            ]
          },
          "metadata": {},
          "execution_count": 102
        }
      ]
    },
    {
      "cell_type": "markdown",
      "source": [
        "Print a list of all the unique Genre"
      ],
      "metadata": {
        "id": "f6cj49w0R4PS"
      }
    },
    {
      "cell_type": "code",
      "source": [
        "\n",
        "\n",
        "genre_list = df['Genre'].str.split(',')\n",
        "all_genres = [genre.strip() for sublist in genre_list for genre in sublist]\n",
        "unique_genres = list(set(all_genres))\n",
        "\n",
        "print(', '.join(unique_genres))\n",
        "\n",
        "\n",
        "\n"
      ],
      "metadata": {
        "id": "CO4kbBsySVjr",
        "outputId": "298f190a-af3c-4c65-e4ea-4eac0f788444",
        "colab": {
          "base_uri": "https://localhost:8080/"
        }
      },
      "execution_count": 103,
      "outputs": [
        {
          "output_type": "stream",
          "name": "stdout",
          "text": [
            "Adventure, Horror, Drama, Film-Noir, Fantasy, Mystery, Sport, Sci-Fi, Animation, Romance, Family, Music, Thriller, History, Biography, Comedy, Action, Crime, War, Musical, Western\n"
          ]
        }
      ]
    },
    {
      "cell_type": "markdown",
      "source": [
        "1. What is the Number of Directors in the given dataset ? "
      ],
      "metadata": {
        "id": "Dfj_ZoVBS97W"
      }
    },
    {
      "cell_type": "code",
      "source": [
        "print(\"No of Director are\" )\n",
        "print(len(df['Director'].unique()))\n",
        "\n",
        "\n",
        "\n"
      ],
      "metadata": {
        "id": "92f8NLciTIU_",
        "outputId": "53842a6f-7ce9-46a8-b3e7-1ccb044faaf5",
        "colab": {
          "base_uri": "https://localhost:8080/"
        }
      },
      "execution_count": 104,
      "outputs": [
        {
          "output_type": "stream",
          "name": "stdout",
          "text": [
            "No of Director are\n",
            "548\n"
          ]
        }
      ]
    },
    {
      "cell_type": "markdown",
      "source": [
        "2. What is the mean, median and standard deviation of IMDB rating in the dataset ?"
      ],
      "metadata": {
        "id": "5UnvBViyTOc9"
      }
    },
    {
      "cell_type": "code",
      "source": [
        "#  mean\n",
        "mean = df.IMDB_Rating.mean()\n",
        "print(\"Mean:\")\n",
        "print(mean)\n",
        "\n",
        "# median\n",
        "median = df.IMDB_Rating.median()\n",
        "print(\"\\nMedian:\")\n",
        "print(median)\n",
        "\n",
        "#  standard deviation\n",
        "std_dev = df.IMDB_Rating.std()\n",
        "print(\"\\nStandard Deviation:\")\n",
        "print(std_dev)"
      ],
      "metadata": {
        "id": "sOL7O83LTg30",
        "outputId": "b9fc2271-dda0-4963-cf02-c4277f99c5d4",
        "colab": {
          "base_uri": "https://localhost:8080/"
        }
      },
      "execution_count": 105,
      "outputs": [
        {
          "output_type": "stream",
          "name": "stdout",
          "text": [
            "Mean:\n",
            "7.949299999999999\n",
            "\n",
            "Median:\n",
            "7.9\n",
            "\n",
            "Standard Deviation:\n",
            "0.2754912074920095\n"
          ]
        }
      ]
    },
    {
      "cell_type": "markdown",
      "source": [
        "3. Which director has directed the most number of movies?"
      ],
      "metadata": {
        "id": "d_k1zoajTxyx"
      }
    },
    {
      "cell_type": "code",
      "source": [
        "\n",
        "director_counts = df['Director'].value_counts()\n",
        "\n",
        "\n",
        "max_director = director_counts.idxmax()\n",
        "\n",
        "\n",
        "print(\"Director with the most number of movies:\", max_director)\n"
      ],
      "metadata": {
        "id": "-gvnNqSsT88L",
        "outputId": "123ae5ad-8851-4ffa-e260-80c1f463b4b6",
        "colab": {
          "base_uri": "https://localhost:8080/"
        }
      },
      "execution_count": 106,
      "outputs": [
        {
          "output_type": "stream",
          "name": "stdout",
          "text": [
            "Director with the most number of movies: Alfred Hitchcock\n"
          ]
        }
      ]
    },
    {
      "cell_type": "markdown",
      "source": [
        "4. Name the Movie which has the highest Runtime ?"
      ],
      "metadata": {
        "id": "zGHeeFZnT-yx"
      }
    },
    {
      "cell_type": "code",
      "source": [
        "\n",
        "\n",
        "\n",
        "df['Runtime'] = df['Runtime'].str.replace(' min', '')\n",
        "\n",
        "\n",
        "df['Runtime'] = df['Runtime'].astype(int)\n",
        "highest_runtime_movie = df[df['Runtime'] == df['Runtime'].max()]['Series_Title'].values[0]\n",
        "\n",
        "# Print the movie with the highest runtime\n",
        "print(\"Movie with the highest runtime:\", highest_runtime_movie)\n",
        "\n",
        "\n",
        "\n"
      ],
      "metadata": {
        "id": "-1BAOzXoUKL1",
        "outputId": "8007bd98-1298-4b41-ecfe-282b9b474208",
        "colab": {
          "base_uri": "https://localhost:8080/"
        }
      },
      "execution_count": 107,
      "outputs": [
        {
          "output_type": "stream",
          "name": "stdout",
          "text": [
            "Movie with the highest runtime: Gangs of Wasseypur\n"
          ]
        }
      ]
    },
    {
      "cell_type": "markdown",
      "source": [
        "5. How many movies are released after year 2000 and have IMDB rating > 8.5 ?"
      ],
      "metadata": {
        "id": "ast-zD1gULUS"
      }
    },
    {
      "cell_type": "code",
      "source": [
        "\n",
        "\n",
        "\n",
        "\n",
        "\n",
        "\n",
        "\n",
        "df['Released_Year'] = pd.to_numeric(df['Released_Year'], errors='coerce')\n",
        "\n",
        "\n",
        "df['Released_Year'] = df['Released_Year'].astype(float)  \n",
        "\n",
        "\n",
        "\n",
        "filtered_movies = df[(df['Released_Year'] > 2000) & (df['IMDB_Rating'] > 8.5)]\n",
        "\n",
        "\n",
        "num_movies = len(filtered_movies)\n",
        "\n",
        "\n",
        "print(\"Number of movies released after year 2000 with IMDb rating > 8.5:\", num_movies)\n",
        "\n"
      ],
      "metadata": {
        "id": "CerH6Lh4P50f",
        "outputId": "400a7c48-2fb1-40ac-d3d5-b1890d689e28",
        "colab": {
          "base_uri": "https://localhost:8080/"
        }
      },
      "execution_count": 108,
      "outputs": [
        {
          "output_type": "stream",
          "name": "stdout",
          "text": [
            "Number of movies released after year 2000 with IMDb rating > 8.5: 11\n"
          ]
        }
      ]
    },
    {
      "cell_type": "markdown",
      "source": [
        "Using seaborn make different types of plots, observe the trend and answer the questions.\n",
        "6. Make a countplot of Movies directed by top 5 directors."
      ],
      "metadata": {
        "id": "jYq9gv3aUl1u"
      }
    },
    {
      "cell_type": "code",
      "source": [
        "top_5director = df['Director'].value_counts().head(5).index\n",
        "top_5director\n",
        "filtered_df = df[df['Director'].isin(top_5director)]\n",
        "\n",
        "plt.figure(figsize=(15, 7))\n",
        "sns.countplot(data=filtered_df, y='Director', order=top_5director)\n",
        "plt.xlabel('No. of Movies')\n",
        "plt.ylabel('Director')\n",
        "plt.title('Movies Directed by Top 5 Directors')\n",
        "\n",
        "\n",
        "plt.show()"
      ],
      "metadata": {
        "id": "WOYH5X29ViUR",
        "outputId": "88de5f6a-75e7-4e00-d963-281a68f827c4",
        "colab": {
          "base_uri": "https://localhost:8080/",
          "height": 641
        }
      },
      "execution_count": 109,
      "outputs": [
        {
          "output_type": "display_data",
          "data": {
            "text/plain": [
              "<Figure size 1500x700 with 1 Axes>"
            ],
            "image/png": "[encoded data removed]"
          },
          "metadata": {}
        }
      ]
    },
    {
      "cell_type": "markdown",
      "source": [
        "7. Make a plot to analyze distribution of IMDB rating?"
      ],
      "metadata": {
        "id": "caUYiLeHVjIf"
      }
    },
    {
      "cell_type": "code",
      "source": [
        "plt.figure(figsize=(15, 6))\n",
        "sns.histplot(data=df, x='IMDB_Rating', kde=True, bins=30)\n",
        "\n",
        "\n",
        "plt.xlabel('IMDB Rating', fontsize=15)\n",
        "plt.ylabel('Frequency', fontsize=15)\n",
        "plt.title('Distribution of IMDb Ratings', fontsize=14)\n",
        "\n",
        "\n",
        "\n",
        "plt.show()\n",
        "\n",
        "# box plot\n",
        "plt.figure(figsize=(15, 6))\n",
        "plt.boxplot(df['IMDB_Rating'])\n",
        "plt.ylabel('IMDB Rating')\n",
        "plt.title('Distribution of IMDB Ratings (Box Plot)')\n",
        "plt.boxplot(df['IMDB_Rating'], boxprops={'color': 'red'})\n",
        "plt.boxplot(df['IMDB_Rating'], flierprops={'marker': 'o', 'markerfacecolor': 'green', 'markersize': 8})\n",
        "\n",
        "\n",
        "plt.show()\n",
        "\n",
        "\n"
      ],
      "metadata": {
        "id": "c12iHvlLV9PR",
        "outputId": "1ae85c52-2cf8-4be2-921e-803c2d438380",
        "colab": {
          "base_uri": "https://localhost:8080/",
          "height": 1000
        }
      },
      "execution_count": 110,
      "outputs": [
        {
          "output_type": "display_data",
          "data": {
            "text/plain": [
              "<Figure size 1500x600 with 1 Axes>"
            ],
            "image/png": "[encoded data removed]"
          },
          "metadata": {}
        },
        {
          "output_type": "display_data",
          "data": {
            "text/plain": [
              "<Figure size 1500x600 with 1 Axes>"
            ],
            "image/png": "[encoded data removed]"
          },
          "metadata": {}
        }
      ]
    },
    {
      "cell_type": "markdown",
      "source": [
        "8. What type of Genre has the highest IMDB rating?"
      ],
      "metadata": {
        "id": "dXCoPuYlWISU"
      }
    },
    {
      "cell_type": "code",
      "source": [
        "\n",
        "\n",
        "# Extract the genres column \n",
        "genres = df['Genre'].str.split(', ')\n",
        "\n",
        "# Create an empty dictionary to store genre averages\n",
        "genre_averages = {}\n",
        "\n",
        "# Iterate over the genres and calculate the average IMDb rating for each genre\n",
        "for genre_list, imdb_rating in zip(genres, df['IMDB_Rating']):\n",
        "    for genre in genre_list:\n",
        "        if genre in genre_averages:\n",
        "            genre_averages[genre].append(imdb_rating)\n",
        "        else:\n",
        "            genre_averages[genre] = [imdb_rating]\n",
        "\n",
        "# Calculate the average IMDb rating for each genre\n",
        "for genre, ratings in genre_averages.items():\n",
        "    genre_averages[genre] = sum(ratings) / len(ratings)\n",
        "\n",
        "# Convert the genre averages dictionary to a DataFrame\n",
        "averages_df = pd.DataFrame({'Genre': list(genre_averages.keys()), 'Average IMDb Rating': list(genre_averages.values())})\n",
        "\n",
        "# Set the style of the plot\n",
        "sns.set_style('darkgrid')\n",
        "\n",
        "# Create a bar plot of the average IMDb rating for each genre\n",
        "plt.figure(figsize=(15, 6))\n",
        "sns.barplot(data=averages_df, x='Genre', y='Average IMDb Rating', palette='tab10')\n",
        "plt.xlabel('Genre')\n",
        "plt.ylabel('Average IMDb Rating')\n",
        "plt.title('Average IMDb Rating for Each Genre')\n",
        "plt.xticks(rotation=45)\n",
        "#to make the difference look more detailed \n",
        "plt.yscale('log')\n",
        "plt.show()\n"
      ],
      "metadata": {
        "id": "0r9cKE7fWjBU",
        "outputId": "2cd23404-4f23-43a0-fbbd-fcf192bb94e9",
        "colab": {
          "base_uri": "https://localhost:8080/",
          "height": 611
        }
      },
      "execution_count": 111,
      "outputs": [
        {
          "output_type": "display_data",
          "data": {
            "text/plain": [
              "<Figure size 1500x600 with 1 Axes>"
            ],
            "image/png": "[encoded data removed]"
          },
          "metadata": {}
        }
      ]
    },
    {
      "cell_type": "markdown",
      "source": [
        "9. Name the top 5 movies that have earned highest Meta score. "
      ],
      "metadata": {
        "id": "Ff2urhAhWrHO"
      }
    },
    {
      "cell_type": "code",
      "source": [
        "sorted_df = df.sort_values('Meta_score', ascending=False)\n",
        "\n",
        "\n",
        "top_movies = sorted_df.head(5)\n",
        "\n",
        "\n",
        "\n",
        "sns.set_style('ticks')\n",
        "\n",
        "\n",
        "sns.barplot(data=top_movies, x='Meta_score', y='Series_Title')\n",
        "plt.xlabel('Meta Score')\n",
        "plt.ylabel('Movie Name')\n",
        "plt.title('Top 5 Movies with Highest Meta Scores')\n",
        "\n",
        "\n",
        "plt.xticks(rotation=45)\n",
        "\n",
        "\n",
        "plt.show()\n"
      ],
      "metadata": {
        "id": "lta342_iWxLd",
        "colab": {
          "base_uri": "https://localhost:8080/",
          "height": 486
        },
        "outputId": "7ecc40ee-1436-4f2a-e7d0-37866dc634a0"
      },
      "execution_count": 112,
      "outputs": [
        {
          "output_type": "display_data",
          "data": {
            "text/plain": [
              "<Figure size 640x480 with 1 Axes>"
            ],
            "image/png": "[encoded data removed]"
          },
          "metadata": {}
        }
      ]
    },
    {
      "cell_type": "markdown",
      "source": [
        "10. Of which Genre movie has the highest Runtime?"
      ],
      "metadata": {
        "id": "FPmZIOiwW5Jo"
      }
    },
    {
      "cell_type": "code",
      "source": [
        "\n",
        "genres = df['Genre'].str.split(', ')\n",
        "\n",
        "# Create an empty dictionary to store genre runtimes\n",
        "genre_runtimes = {}\n",
        "\n",
        "# Calculate the average runtime for each genre\n",
        "for genre_list, runtime in zip(genres, df['Runtime']):\n",
        "    for genre in genre_list:\n",
        "        if genre in genre_runtimes:\n",
        "            genre_runtimes[genre].append(runtime)\n",
        "        else:\n",
        "            genre_runtimes[genre] = [runtime]\n",
        "\n",
        "# Calculate the average runtime for each genre\n",
        "avg_runtimes = {genre: sum(runtimes) / len(runtimes) for genre, runtimes in genre_runtimes.items()}\n",
        "\n",
        "# Convert the average runtimes dictionary to a DataFrame\n",
        "avg_runtime_df = pd.DataFrame({'Genre': list(avg_runtimes.keys()), 'Average Runtime': list(avg_runtimes.values())})\n",
        "\n",
        "# Set the style of the plot\n",
        "sns.set_style('darkgrid')\n",
        "\n",
        "# Create a bar plot of average runtimes with log scale\n",
        "plt.figure(figsize=(15, 6))\n",
        "sns.barplot(data=avg_runtime_df, x='Genre', y='Average Runtime')\n",
        "plt.yscale('log')\n",
        "plt.xticks(rotation=90)\n",
        "plt.xlabel('Genre')\n",
        "plt.ylabel('Average Runtime (log scale)')\n",
        "plt.title('Average Runtime for Each Genre')\n",
        "plt.show()\n",
        "\n",
        "\n",
        "\n",
        "\n",
        "\n"
      ],
      "metadata": {
        "id": "R5a1FemoXJuo",
        "outputId": "1a76b7a8-9bf6-4923-d3ea-f7e3a52fd89c",
        "colab": {
          "base_uri": "https://localhost:8080/",
          "height": 622
        }
      },
      "execution_count": 113,
      "outputs": [
        {
          "output_type": "display_data",
          "data": {
            "text/plain": [
              "<Figure size 1500x600 with 1 Axes>"
            ],
            "image/png": "[encoded data removed]"
          },
          "metadata": {}
        }
      ]
    },
    {
      "cell_type": "markdown",
      "source": [
        "**Using the knowledge about Plotly that you have  try making plots and analyse the data .Whenever you come across an interesting analysis please show the corresponding plot(using Plotly) and comment down your analysis for the same**"
      ],
      "metadata": {
        "id": "B_NatnajpeBE"
      }
    },
    {
      "cell_type": "code",
      "source": [
        "\n",
        "!pip install plotly\n",
        "import plotly.graph_objects as go\n",
        "import plotly.express as px\n",
        "import plotly.io as pio\n",
        "\n",
        "pio.renderers.default = 'colab'\n",
        "\n",
        "#pie chart\n",
        "genre_counts = df['Genre'].str.get_dummies(sep=', ').sum().sort_values(ascending=False)\n",
        "pie_chart = px.pie(values=genre_counts, names=genre_counts.index, title='Distribution of Genres')\n",
        "pie_chart.show()\n",
        "\n",
        "\n",
        "\n",
        "fig.show()\n",
        "\n",
        "\n",
        "print(\"*As we can see that almost 1/3 rd of movies are based on Drama .\\n*People love drama and soft entertainment rather than Horror, musical etc\")\n"
      ],
      "metadata": {
        "id": "eGoTOAWvpfIu",
        "colab": {
          "base_uri": "https://localhost:8080/",
          "height": 629
        },
        "outputId": "cfffa4c0-7bb8-4ace-ec41-bcf91817080c"
      },
      "execution_count": 114,
      "outputs": [
        {
          "output_type": "stream",
          "name": "stdout",
          "text": [
            "Looking in indexes: https://pypi.org/simple, https://us-python.pkg.dev/colab-wheels/public/simple/\n",
            "Requirement already satisfied: plotly in /usr/local/lib/python3.10/dist-packages (5.13.1)\n",
            "Requirement already satisfied: tenacity>=6.2.0 in /usr/local/lib/python3.10/dist-packages (from plotly) (8.2.2)\n"
          ]
        },
        {
          "output_type": "display_data",
          "data": {
            "text/html": [
              "<html>\n",
              "<head><meta charset=\"utf-8\" /></head>\n",
              "<body>\n",
              "    <div>            <script src=\"https://cdnjs.cloudflare.com/ajax/libs/mathjax/2.7.5/MathJax.js?config=TeX-AMS-MML_SVG\"></script><script type=\"text/javascript\">if (window.MathJax && window.MathJax.Hub && window.MathJax.Hub.Config) {window.MathJax.Hub.Config({SVG: {font: \"STIX-Web\"}});}</script>                <script type=\"text/javascript\">window.PlotlyConfig = {MathJaxConfig: 'local'};</script>\n",
              "        <script src=\"https://cdn.plot.ly/plotly-2.18.2.min.js\"></script>                <div id=\"0f3d836f-a1a6-4c55-a1c5-bb092a717660\" class=\"plotly-graph-div\" style=\"height:525px; width:100%;\"></div>            <script type=\"text/javascript\">                                    window.PLOTLYENV=window.PLOTLYENV || {};                                    if (document.getElementById(\"0f3d836f-a1a6-4c55-a1c5-bb092a717660\")) {                    Plotly.newPlot(                        \"0f3d836f-a1a6-4c55-a1c5-bb092a717660\",                        [{\"domain\":{\"x\":[0.0,1.0],\"y\":[0.0,1.0]},\"hovertemplate\":\"label=%{label}<br>value=%{value}<extra></extra>\",\"labels\":[\"Drama\",\"Comedy\",\"Crime\",\"Adventure\",\"Action\",\"Thriller\",\"Romance\",\"Biography\",\"Mystery\",\"Animation\",\"Sci-Fi\",\"Fantasy\",\"History\",\"Family\",\"War\",\"Music\",\"Horror\",\"Western\",\"Film-Noir\",\"Sport\",\"Musical\"],\"legendgroup\":\"\",\"name\":\"\",\"showlegend\":true,\"values\":[724,233,209,196,189,137,125,109,99,82,67,66,56,56,51,35,32,20,19,19,17],\"type\":\"pie\"}],                        {\"template\":{\"data\":{\"histogram2dcontour\":[{\"type\":\"histogram2dcontour\",\"colorbar\":{\"outlinewidth\":0,\"ticks\":\"\"},\"colorscale\":[[0.0,\"#0d0887\"],[0.1111111111111111,\"#46039f\"],[0.2222222222222222,\"#7201a8\"],[0.3333333333333333,\"#9c179e\"],[0.4444444444444444,\"#bd3786\"],[0.5555555555555556,\"#d8576b\"],[0.6666666666666666,\"#ed7953\"],[0.7777777777777778,\"#fb9f3a\"],[0.8888888888888888,\"#fdca26\"],[1.0,\"#f0f921\"]]}],\"choropleth\":[{\"type\":\"choropleth\",\"colorbar\":{\"outlinewidth\":0,\"ticks\":\"\"}}],\"histogram2d\":[{\"type\":\"histogram2d\",\"colorbar\":{\"outlinewidth\":0,\"ticks\":\"\"},\"colorscale\":[[0.0,\"#0d0887\"],[0.1111111111111111,\"#46039f\"],[0.2222222222222222,\"#7201a8\"],[0.3333333333333333,\"#9c179e\"],[0.4444444444444444,\"#bd3786\"],[0.5555555555555556,\"#d8576b\"],[0.6666666666666666,\"#ed7953\"],[0.7777777777777778,\"#fb9f3a\"],[0.8888888888888888,\"#fdca26\"],[1.0,\"#f0f921\"]]}],\"heatmap\":[{\"type\":\"heatmap\",\"colorbar\":{\"outlinewidth\":0,\"ticks\":\"\"},\"colorscale\":[[0.0,\"#0d0887\"],[0.1111111111111111,\"#46039f\"],[0.2222222222222222,\"#7201a8\"],[0.3333333333333333,\"#9c179e\"],[0.4444444444444444,\"#bd3786\"],[0.5555555555555556,\"#d8576b\"],[0.6666666666666666,\"#ed7953\"],[0.7777777777777778,\"#fb9f3a\"],[0.8888888888888888,\"#fdca26\"],[1.0,\"#f0f921\"]]}],\"heatmapgl\":[{\"type\":\"heatmapgl\",\"colorbar\":{\"outlinewidth\":0,\"ticks\":\"\"},\"colorscale\":[[0.0,\"#0d0887\"],[0.1111111111111111,\"#46039f\"],[0.2222222222222222,\"#7201a8\"],[0.3333333333333333,\"#9c179e\"],[0.4444444444444444,\"#bd3786\"],[0.5555555555555556,\"#d8576b\"],[0.6666666666666666,\"#ed7953\"],[0.7777777777777778,\"#fb9f3a\"],[0.8888888888888888,\"#fdca26\"],[1.0,\"#f0f921\"]]}],\"contourcarpet\":[{\"type\":\"contourcarpet\",\"colorbar\":{\"outlinewidth\":0,\"ticks\":\"\"}}],\"contour\":[{\"type\":\"contour\",\"colorbar\":{\"outlinewidth\":0,\"ticks\":\"\"},\"colorscale\":[[0.0,\"#0d0887\"],[0.1111111111111111,\"#46039f\"],[0.2222222222222222,\"#7201a8\"],[0.3333333333333333,\"#9c179e\"],[0.4444444444444444,\"#bd3786\"],[0.5555555555555556,\"#d8576b\"],[0.6666666666666666,\"#ed7953\"],[0.7777777777777778,\"#fb9f3a\"],[0.8888888888888888,\"#fdca26\"],[1.0,\"#f0f921\"]]}],\"surface\":[{\"type\":\"surface\",\"colorbar\":{\"outlinewidth\":0,\"ticks\":\"\"},\"colorscale\":[[0.0,\"#0d0887\"],[0.1111111111111111,\"#46039f\"],[0.2222222222222222,\"#7201a8\"],[0.3333333333333333,\"#9c179e\"],[0.4444444444444444,\"#bd3786\"],[0.5555555555555556,\"#d8576b\"],[0.6666666666666666,\"#ed7953\"],[0.7777777777777778,\"#fb9f3a\"],[0.8888888888888888,\"#fdca26\"],[1.0,\"#f0f921\"]]}],\"mesh3d\":[{\"type\":\"mesh3d\",\"colorbar\":{\"outlinewidth\":0,\"ticks\":\"\"}}],\"scatter\":[{\"fillpattern\":{\"fillmode\":\"overlay\",\"size\":10,\"solidity\":0.2},\"type\":\"scatter\"}],\"parcoords\":[{\"type\":\"parcoords\",\"line\":{\"colorbar\":{\"outlinewidth\":0,\"ticks\":\"\"}}}],\"scatterpolargl\":[{\"type\":\"scatterpolargl\",\"marker\":{\"colorbar\":{\"outlinewidth\":0,\"ticks\":\"\"}}}],\"bar\":[{\"error_x\":{\"color\":\"#2a3f5f\"},\"error_y\":{\"color\":\"#2a3f5f\"},\"marker\":{\"line\":{\"color\":\"#E5ECF6\",\"width\":0.5},\"pattern\":{\"fillmode\":\"overlay\",\"size\":10,\"solidity\":0.2}},\"type\":\"bar\"}],\"scattergeo\":[{\"type\":\"scattergeo\",\"marker\":{\"colorbar\":{\"outlinewidth\":0,\"ticks\":\"\"}}}],\"scatterpolar\":[{\"type\":\"scatterpolar\",\"marker\":{\"colorbar\":{\"outlinewidth\":0,\"ticks\":\"\"}}}],\"histogram\":[{\"marker\":{\"pattern\":{\"fillmode\":\"overlay\",\"size\":10,\"solidity\":0.2}},\"type\":\"histogram\"}],\"scattergl\":[{\"type\":\"scattergl\",\"marker\":{\"colorbar\":{\"outlinewidth\":0,\"ticks\":\"\"}}}],\"scatter3d\":[{\"type\":\"scatter3d\",\"line\":{\"colorbar\":{\"outlinewidth\":0,\"ticks\":\"\"}},\"marker\":{\"colorbar\":{\"outlinewidth\":0,\"ticks\":\"\"}}}],\"scattermapbox\":[{\"type\":\"scattermapbox\",\"marker\":{\"colorbar\":{\"outlinewidth\":0,\"ticks\":\"\"}}}],\"scatterternary\":[{\"type\":\"scatterternary\",\"marker\":{\"colorbar\":{\"outlinewidth\":0,\"ticks\":\"\"}}}],\"scattercarpet\":[{\"type\":\"scattercarpet\",\"marker\":{\"colorbar\":{\"outlinewidth\":0,\"ticks\":\"\"}}}],\"carpet\":[{\"aaxis\":{\"endlinecolor\":\"#2a3f5f\",\"gridcolor\":\"white\",\"linecolor\":\"white\",\"minorgridcolor\":\"white\",\"startlinecolor\":\"#2a3f5f\"},\"baxis\":{\"endlinecolor\":\"#2a3f5f\",\"gridcolor\":\"white\",\"linecolor\":\"white\",\"minorgridcolor\":\"white\",\"startlinecolor\":\"#2a3f5f\"},\"type\":\"carpet\"}],\"table\":[{\"cells\":{\"fill\":{\"color\":\"#EBF0F8\"},\"line\":{\"color\":\"white\"}},\"header\":{\"fill\":{\"color\":\"#C8D4E3\"},\"line\":{\"color\":\"white\"}},\"type\":\"table\"}],\"barpolar\":[{\"marker\":{\"line\":{\"color\":\"#E5ECF6\",\"width\":0.5},\"pattern\":{\"fillmode\":\"overlay\",\"size\":10,\"solidity\":0.2}},\"type\":\"barpolar\"}],\"pie\":[{\"automargin\":true,\"type\":\"pie\"}]},\"layout\":{\"autotypenumbers\":\"strict\",\"colorway\":[\"#636efa\",\"#EF553B\",\"#00cc96\",\"#ab63fa\",\"#FFA15A\",\"#19d3f3\",\"#FF6692\",\"#B6E880\",\"#FF97FF\",\"#FECB52\"],\"font\":{\"color\":\"#2a3f5f\"},\"hovermode\":\"closest\",\"hoverlabel\":{\"align\":\"left\"},\"paper_bgcolor\":\"white\",\"plot_bgcolor\":\"#E5ECF6\",\"polar\":{\"bgcolor\":\"#E5ECF6\",\"angularaxis\":{\"gridcolor\":\"white\",\"linecolor\":\"white\",\"ticks\":\"\"},\"radialaxis\":{\"gridcolor\":\"white\",\"linecolor\":\"white\",\"ticks\":\"\"}},\"ternary\":{\"bgcolor\":\"#E5ECF6\",\"aaxis\":{\"gridcolor\":\"white\",\"linecolor\":\"white\",\"ticks\":\"\"},\"baxis\":{\"gridcolor\":\"white\",\"linecolor\":\"white\",\"ticks\":\"\"},\"caxis\":{\"gridcolor\":\"white\",\"linecolor\":\"white\",\"ticks\":\"\"}},\"coloraxis\":{\"colorbar\":{\"outlinewidth\":0,\"ticks\":\"\"}},\"colorscale\":{\"sequential\":[[0.0,\"#0d0887\"],[0.1111111111111111,\"#46039f\"],[0.2222222222222222,\"#7201a8\"],[0.3333333333333333,\"#9c179e\"],[0.4444444444444444,\"#bd3786\"],[0.5555555555555556,\"#d8576b\"],[0.6666666666666666,\"#ed7953\"],[0.7777777777777778,\"#fb9f3a\"],[0.8888888888888888,\"#fdca26\"],[1.0,\"#f0f921\"]],\"sequentialminus\":[[0.0,\"#0d0887\"],[0.1111111111111111,\"#46039f\"],[0.2222222222222222,\"#7201a8\"],[0.3333333333333333,\"#9c179e\"],[0.4444444444444444,\"#bd3786\"],[0.5555555555555556,\"#d8576b\"],[0.6666666666666666,\"#ed7953\"],[0.7777777777777778,\"#fb9f3a\"],[0.8888888888888888,\"#fdca26\"],[1.0,\"#f0f921\"]],\"diverging\":[[0,\"#8e0152\"],[0.1,\"#c51b7d\"],[0.2,\"#de77ae\"],[0.3,\"#f1b6da\"],[0.4,\"#fde0ef\"],[0.5,\"#f7f7f7\"],[0.6,\"#e6f5d0\"],[0.7,\"#b8e186\"],[0.8,\"#7fbc41\"],[0.9,\"#4d9221\"],[1,\"#276419\"]]},\"xaxis\":{\"gridcolor\":\"white\",\"linecolor\":\"white\",\"ticks\":\"\",\"title\":{\"standoff\":15},\"zerolinecolor\":\"white\",\"automargin\":true,\"zerolinewidth\":2},\"yaxis\":{\"gridcolor\":\"white\",\"linecolor\":\"white\",\"ticks\":\"\",\"title\":{\"standoff\":15},\"zerolinecolor\":\"white\",\"automargin\":true,\"zerolinewidth\":2},\"scene\":{\"xaxis\":{\"backgroundcolor\":\"#E5ECF6\",\"gridcolor\":\"white\",\"linecolor\":\"white\",\"showbackground\":true,\"ticks\":\"\",\"zerolinecolor\":\"white\",\"gridwidth\":2},\"yaxis\":{\"backgroundcolor\":\"#E5ECF6\",\"gridcolor\":\"white\",\"linecolor\":\"white\",\"showbackground\":true,\"ticks\":\"\",\"zerolinecolor\":\"white\",\"gridwidth\":2},\"zaxis\":{\"backgroundcolor\":\"#E5ECF6\",\"gridcolor\":\"white\",\"linecolor\":\"white\",\"showbackground\":true,\"ticks\":\"\",\"zerolinecolor\":\"white\",\"gridwidth\":2}},\"shapedefaults\":{\"line\":{\"color\":\"#2a3f5f\"}},\"annotationdefaults\":{\"arrowcolor\":\"#2a3f5f\",\"arrowhead\":0,\"arrowwidth\":1},\"geo\":{\"bgcolor\":\"white\",\"landcolor\":\"#E5ECF6\",\"subunitcolor\":\"white\",\"showland\":true,\"showlakes\":true,\"lakecolor\":\"white\"},\"title\":{\"x\":0.05},\"mapbox\":{\"style\":\"light\"}}},\"legend\":{\"tracegroupgap\":0},\"title\":{\"text\":\"Distribution of Genres\"}},                        {\"responsive\": true}                    ).then(function(){\n",
              "                            \n",
              "var gd = document.getElementById('0f3d836f-a1a6-4c55-a1c5-bb092a717660');\n",
              "var x = new MutationObserver(function (mutations, observer) {{\n",
              "        var display = window.getComputedStyle(gd).display;\n",
              "        if (!display || display === 'none') {{\n",
              "            console.log([gd, 'removed!']);\n",
              "            Plotly.purge(gd);\n",
              "            observer.disconnect();\n",
              "        }}\n",
              "}});\n",
              "\n",
              "// Listen for the removal of the full notebook cells\n",
              "var notebookContainer = gd.closest('#notebook-container');\n",
              "if (notebookContainer) {{\n",
              "    x.observe(notebookContainer, {childList: true});\n",
              "}}\n",
              "\n",
              "// Listen for the clearing of the current output cell\n",
              "var outputEl = gd.closest('.output');\n",
              "if (outputEl) {{\n",
              "    x.observe(outputEl, {childList: true});\n",
              "}}\n",
              "\n",
              "                        })                };                            </script>        </div>\n",
              "</body>\n",
              "</html>"
            ]
          },
          "metadata": {}
        },
        {
          "output_type": "stream",
          "name": "stdout",
          "text": [
            "*As we can see that almost 1/3 rd of movies are based on Drama .\n",
            "*People love drama and soft entertainment rather than Horror, musical etc\n"
          ]
        }
      ]
    },
    {
      "cell_type": "code",
      "source": [
        "box_plot = px.box(df, x='Genre', y='IMDB_Rating', title='IMDB Ratings by Genre')\n",
        "box_plot.show()\n",
        "\n",
        "print(\"*very strange that highest IMDB ratings are from Drama rather than general perception of sci fi,mystery,horror,etc movies  \")\n"
      ],
      "metadata": {
        "id": "YO0vwpoptp1e",
        "colab": {
          "base_uri": "https://localhost:8080/",
          "height": 559
        },
        "outputId": "ea07d0aa-57de-4566-b4a4-62a0554b3d3a"
      },
      "execution_count": 115,
      "outputs": [
        {
          "output_type": "display_data",
          "data": {
            "text/html": [
              "<html>\n",
              "<head><meta charset=\"utf-8\" /></head>\n",
              "<body>\n",
              "    <div>            <script src=\"https://cdnjs.cloudflare.com/ajax/libs/mathjax/2.7.5/MathJax.js?config=TeX-AMS-MML_SVG\"></script><script type=\"text/javascript\">if (window.MathJax && window.MathJax.Hub && window.MathJax.Hub.Config) {window.MathJax.Hub.Config({SVG: {font: \"STIX-Web\"}});}</script>                <script type=\"text/javascript\">window.PlotlyConfig = {MathJaxConfig: 'local'};</script>\n",
              "        <script src=\"https://cdn.plot.ly/plotly-2.18.2.min.js\"></script>                <div id=\"a7630a4b-1e8a-478d-bf7a-525035443b24\" class=\"plotly-graph-div\" style=\"height:525px; width:100%;\"></div>            <script type=\"text/javascript\">                                    window.PLOTLYENV=window.PLOTLYENV || {};                                    if (document.getElementById(\"a7630a4b-1e8a-478d-bf7a-525035443b24\")) {                    Plotly.newPlot(                        \"a7630a4b-1e8a-478d-bf7a-525035443b24\",                        [{\"alignmentgroup\":\"True\",\"hovertemplate\":\"Genre=%{x}<br>IMDB_Rating=%{y}<extra></extra>\",\"legendgroup\":\"\",\"marker\":{\"color\":\"#636efa\"},\"name\":\"\",\"notched\":false,\"offsetgroup\":\"\",\"orientation\":\"v\",\"showlegend\":false,\"x\":[\"Drama\",\"Crime, Drama\",\"Action, Crime, Drama\",\"Crime, Drama\",\"Crime, Drama\",\"Action, Adventure, Drama\",\"Crime, Drama\",\"Biography, Drama, History\",\"Action, Adventure, Sci-Fi\",\"Drama\",\"Action, Adventure, Drama\",\"Drama, Romance\",\"Western\",\"Action, Adventure, Drama\",\"Action, Sci-Fi\",\"Biography, Crime, Drama\",\"Action, Adventure, Fantasy\",\"Drama\",\"Biography, Drama, History\",\"Comedy, Drama, Thriller\",\"Drama\",\"Adventure, Drama, Sci-Fi\",\"Crime, Drama\",\"Animation, Adventure, Family\",\"Drama, War\",\"Crime, Drama, Fantasy\",\"Comedy, Drama, Romance\",\"Crime, Drama, Mystery\",\"Crime, Drama, Thriller\",\"Action, Adventure, Fantasy\",\"Action, Drama, Mystery\",\"Action, Adventure, Drama\",\"Drama, Family, Fantasy\",\"Crime, Drama, Thriller\",\"Drama, Music\",\"Biography, Comedy, Drama\",\"Drama, Mystery, Sci-Fi\",\"Crime, Drama, Thriller\",\"Biography, Drama, Music\",\"Action, Adventure, Drama\",\"Drama\",\"Crime, Mystery, Thriller\",\"Action, Crime, Drama\",\"Animation, Adventure, Drama\",\"Action, Sci-Fi\",\"Drama, Romance\",\"Animation, Drama, War\",\"Adventure, Comedy, Sci-Fi\",\"Western\",\"Horror, Mystery, Thriller\",\"Drama, Romance, War\",\"Comedy, Drama, Family\",\"Comedy, Drama, Romance\",\"Drama\",\"Biography, Drama, History\",\"Action, Crime, Drama\",\"Animation, Drama, Fantasy\",\"Action, Biography, Drama\",\"Animation, Action, Adventure\",\"Action, Adventure, Drama\",\"Action, Adventure, Sci-Fi\",\"Animation, Adventure, Family\",\"Drama, Western\",\"Action, Adventure\",\"Comedy, Drama\",\"Drama, Family\",\"Animation, Adventure, Family\",\"Drama, Mystery, Thriller\",\"Action, Drama, Mystery\",\"Mystery, Thriller\",\"Animation, Action, Adventure\",\"Crime, Drama\",\"Action, Adventure\",\"Drama, Horror\",\"Drama, Mystery, War\",\"Horror, Sci-Fi\",\"Drama, Musical\",\"Crime, Drama, Mystery\",\"Comedy\",\"Crime, Drama, Mystery\",\"Drama, War\",\"Mystery, Thriller\",\"Drama, Film-Noir\",\"Comedy, Drama, War\",\"Drama, Thriller, War\",\"Drama, Fantasy, Horror\",\"Crime, Drama, Music\",\"Crime, Drama, Thriller\",\"Drama\",\"Drama\",\"Drama, Mystery, War\",\"Drama\",\"Drama, Family\",\"Adventure, Drama, War\",\"Drama, Romance, Sci-Fi\",\"Comedy, Romance\",\"Comedy, Crime\",\"Drama\",\"Drama\",\"Drama, Romance\",\"Drama, Family, Sport\",\"Animation, Adventure, Comedy\",\"Biography, Drama, History\",\"Crime, Drama, Thriller\",\"Drama, War\",\"Drama, Thriller, War\",\"Action, Adventure, Sci-Fi\",\"Biography, Drama, History\",\"Crime, Drama\",\"Action, Adventure, Fantasy\",\"Adventure, Drama, Thriller\",\"Crime, Drama\",\"Comedy, Crime, Drama\",\"Crime, Drama, Sci-Fi\",\"Adventure, Sci-Fi\",\"Western\",\"Adventure, Biography, Drama\",\"Comedy, Drama, Romance\",\"Adventure, Mystery, Thriller\",\"Mystery, Romance, Thriller\",\"Comedy, Musical, Romance\",\"Drama\",\"Drama\",\"Crime, Drama, Film-Noir\",\"Drama, Mystery\",\"Crime, Mystery, Thriller\",\"Drama, Sci-Fi\",\"Comedy, Drama, Family\",\"Comedy, Drama\",\"Action, Drama, War\",\"Action, Drama\",\"Biography, Comedy, Drama\",\"Comedy, Crime, Drama\",\"Crime, Drama, Mystery\",\"Action, Drama\",\"Animation, Adventure, Comedy\",\"Crime, Drama, Mystery\",\"Adventure, Comedy, Drama\",\"Drama, War\",\"Biography, Drama, Sport\",\"Action, Comedy, Crime\",\"Drama\",\"Action, Biography, Crime\",\"Drama, Mystery, Romance\",\"Action, Drama, Sport\",\"Mystery, Thriller\",\"Animation, Adventure, Comedy\",\"Biography, Crime, Drama\",\"Drama, Family, Sport\",\"Drama\",\"Drama, Fantasy, War\",\"Animation, Adventure, Comedy\",\"Action, Drama, Sci-Fi\",\"Comedy, Crime, Drama\",\"Drama\",\"Action, Adventure\",\"Drama\",\"Biography, Drama, History\",\"Animation, Adventure, Family\",\"Biography, Drama\",\"Action, Comedy, Crime\",\"Action, Comedy, Crime\",\"Crime, Drama, Mystery\",\"Crime, Drama, Thriller\",\"Crime, Drama, Thriller\",\"Crime, Drama\",\"Action, Comedy, Romance\",\"Drama, Western\",\"Action, Adventure\",\"Comedy, Crime, Drama\",\"Animation, Family, Fantasy\",\"Action, Thriller\",\"Action, Drama, War\",\"Biography, Drama, Sport\",\"Drama, Sci-Fi\",\"Drama, Music\",\"Biography, Drama, History\",\"Action, Adventure, Comedy\",\"Adventure, Comedy, Fantasy\",\"Adventure, Drama, History\",\"Crime, Drama\",\"Action, Drama, Thriller\",\"Drama, War\",\"Comedy, Music, Romance\",\"Drama, Romance\",\"Drama, Fantasy, History\",\"Crime, Drama, Thriller\",\"Crime, Thriller\",\"Drama\",\"Crime, Drama, Mystery\",\"Drama\",\"Adventure, Drama, Western\",\"Comedy, War\",\"Adventure, Comedy, Drama\",\"Action, Comedy, Romance\",\"Drama, Romance\",\"Drama, Thriller\",\"Animation, Drama, Family\",\"Crime, Drama, Mystery\",\"Drama, Romance, Thriller\",\"Drama\",\"Action, Crime, Drama\",\"Action, Drama, Sci-Fi\",\"Drama, Thriller\",\"Comedy, Drama, Thriller\",\"Animation, Adventure, Comedy\",\"Drama\",\"Comedy, Drama, Musical\",\"Comedy, Drama, Fantasy\",\"Adventure, Comedy, Crime\",\"Drama, Mystery, Thriller\",\"Animation, Drama, Fantasy\",\"Biography, Drama, History\",\"Animation, Adventure, Comedy\",\"Comedy, Drama, Romance\",\"Biography, Drama, History\",\"Action, Biography, Drama\",\"Action, Biography, Drama\",\"Biography, Crime, Drama\",\"Animation, Adventure, Drama\",\"Mystery, Thriller\",\"Comedy, Drama\",\"Crime, Drama, Mystery\",\"Action, Adventure, Sci-Fi\",\"Action, Crime, Drama\",\"Drama\",\"Adventure, Drama, Fantasy\",\"Drama, Music\",\"Biography, Drama, Family\",\"Animation, Comedy, Drama\",\"Animation, Action, Adventure\",\"Adventure, Biography, Drama\",\"Crime, Drama, Thriller\",\"Comedy, Drama, Romance\",\"Drama, Sport\",\"Biography, Drama, History\",\"Action, Drama, War\",\"Drama, Romance\",\"Comedy, Drama, Musical\",\"Crime, Drama, Mystery\",\"Comedy, Drama, Romance\",\"Action, Crime, Drama\",\"Animation, Adventure, Comedy\",\"Biography, Crime, Drama\",\"Drama, Thriller\",\"Animation, Adventure, Comedy\",\"Animation, Action, Drama\",\"Adventure, Drama, Musical\",\"Drama, Mystery, Thriller\",\"Drama, Music, Romance\",\"Comedy, Drama\",\"Comedy, Crime, Romance\",\"Comedy, Crime, Sport\",\"Drama, Romance\",\"Drama\",\"Crime, Drama, Thriller\",\"Comedy, Drama, War\",\"Crime, Drama\",\"Drama, Romance\",\"Drama, Romance\",\"Drama, Mystery, Romance\",\"Comedy, Crime, Drama\",\"Action, Adventure, Sci-Fi\",\"Biography, Crime, Drama\",\"Drama, Music, Romance\",\"Drama, History, Romance\",\"Comedy, Drama\",\"Adventure, Drama\",\"Drama, War\",\"Drama\",\"Animation, Adventure, Fantasy\",\"Horror, Mystery, Sci-Fi\",\"Drama, Fantasy, Music\",\"Adventure, Drama\",\"Drama\",\"Action, Sci-Fi, Thriller\",\"Biography, Drama\",\"Comedy\",\"Drama, War\",\"Drama, Sport\",\"Drama\",\"Adventure, Drama, History\",\"Biography, Drama\",\"Drama, Mystery, Thriller\",\"Comedy, Crime, Drama\",\"Drama\",\"Drama, Mystery, Sci-Fi\",\"Crime, Drama, Mystery\",\"Crime, Drama\",\"Drama, Thriller\",\"Biography, Drama, History\",\"Drama, War\",\"Drama, Fantasy\",\"Drama, Horror, Thriller\",\"Action, Comedy, Crime\",\"Drama, Western\",\"Drama, War\",\"Drama\",\"Biography, Drama, History\",\"Crime, Drama\",\"Adventure, Drama, History\",\"Adventure, Drama\",\"Drama\",\"Drama, History\",\"Adventure, Drama, War\",\"Crime, Drama, Thriller\",\"Adventure, Drama, Thriller\",\"Drama, Film-Noir\",\"Action, Crime, Drama\",\"Film-Noir, Mystery, Thriller\",\"Drama, Music, Romance\",\"Comedy, Drama, Romance\",\"Drama, Mystery, Romance\",\"Comedy, Drama\",\"Drama, History, Romance\",\"Drama, War\",\"Comedy, Romance\",\"Biography, Drama, History\",\"Comedy, Romance\",\"Drama, Romance\",\"Action, Adventure, Comedy\",\"Fantasy, Horror, Mystery\",\"Comedy, Drama\",\"Adventure, Biography, Drama\",\"Drama, History\",\"Action, Adventure, Comedy\",\"Action, Crime, Thriller\",\"Comedy, Drama, Music\",\"Biography, Drama\",\"Adventure, Drama, Sci-Fi\",\"Animation, Adventure, Comedy\",\"Action, Drama\",\"Animation, Adventure, Drama\",\"Drama, Family\",\"Drama, Music, Romance\",\"Crime, Drama, Thriller\",\"Drama\",\"Action, Crime, Thriller\",\"Biography, Drama, Thriller\",\"Action, Adventure, Comedy\",\"Action, Drama, Mystery\",\"Drama, Romance, Sci-Fi\",\"Biography, Drama, Music\",\"Action, Adventure, Drama\",\"Drama, Romance\",\"Action, Crime, Drama\",\"Biography, Drama, History\",\"Drama\",\"Action, Adventure, Comedy\",\"Drama, Mystery\",\"Drama, Romance\",\"Action, Biography, Drama\",\"Drama\",\"Action, Drama, Thriller\",\"Drama, Romance\",\"Drama, Thriller\",\"Action, Crime, Drama\",\"Action, Adventure, Sci-Fi\",\"Animation, Biography, Drama\",\"Biography, Drama\",\"Biography, Drama\",\"Adventure, Drama, Thriller\",\"Action, Mystery, Thriller\",\"Crime, Drama, Romance\",\"Crime, Thriller\",\"Biography, Drama\",\"Adventure, Comedy, Sci-Fi\",\"Animation, Adventure, Comedy\",\"Action, Adventure, Thriller\",\"Action, Crime, Thriller\",\"Drama\",\"Drama, Romance\",\"Biography, Drama\",\"Biography, Drama, History\",\"Comedy, Drama, Musical\",\"Action, Crime, Drama\",\"Action, Adventure, Fantasy\",\"Adventure, Drama, Fantasy\",\"Animation, Action, Adventure\",\"Comedy, Drama, Romance\",\"Crime, Drama\",\"Comedy, Drama\",\"Drama, Mystery, Sci-Fi\",\"Drama\",\"Crime, Drama, Musical\",\"Biography, Drama\",\"Animation, Crime, Mystery\",\"Drama\",\"Drama\",\"Animation, Action, Adventure\",\"Action, Crime, Comedy\",\"Drama\",\"Comedy, Drama\",\"Mystery, Sci-Fi, Thriller\",\"Animation, Action, Crime\",\"Animation, Family, Fantasy\",\"Comedy, Fantasy, Romance\",\"Crime, Drama\",\"Drama\",\"Animation, Adventure, Comedy\",\"Drama, History, Thriller\",\"Animation, Family, Fantasy\",\"Adventure, Drama, Western\",\"Comedy, Drama\",\"Drama\",\"Animation, Action, Sci-Fi\",\"Adventure, Family, Fantasy\",\"Drama, Fantasy, Romance\",\"Drama, War\",\"Animation, Adventure, Drama\",\"Action, Sci-Fi\",\"Biography, Drama, History\",\"Drama, History, War\",\"Comedy, Drama\",\"Comedy, Romance\",\"Adventure, Thriller\",\"Biography, Crime, Drama\",\"Comedy\",\"Biography, Crime, Drama\",\"Horror\",\"Mystery, Thriller\",\"Drama, Romance\",\"Drama, Family, Musical\",\"Drama\",\"Biography, Crime, Drama\",\"Drama, Horror\",\"Adventure, Sci-Fi\",\"Comedy, Drama, Romance\",\"Drama\",\"Biography, Drama, Family\",\"Drama, Romance, War\",\"Action, Drama, Western\",\"Drama\",\"Drama\",\"Drama, Sport\",\"Comedy, Drama\",\"Action, Drama, Western\",\"Crime, Drama, Mystery\",\"Crime, Drama, Film-Noir\",\"Drama\",\"Drama, Film-Noir\",\"Crime, Drama, Film-Noir\",\"Crime, Drama, Film-Noir\",\"Drama\",\"Crime, Drama, Horror\",\"Comedy, Drama, War\",\"Comedy, Romance\",\"Drama\",\"Drama, Film-Noir, Mystery\",\"Comedy, Crime\",\"Crime, Drama, Mystery\",\"Crime, Drama, Film-Noir\",\"Drama, Romance\",\"Drama, Film-Noir, Mystery\",\"Drama, Romance, War\",\"Comedy, Crime, Thriller\",\"Film-Noir, Mystery\",\"Drama, History\",\"Adventure, Family, Fantasy\",\"Comedy, Drama\",\"Comedy, Crime, Mystery\",\"Drama, War\",\"Drama, History, Thriller\",\"Comedy, Crime, Drama\",\"Comedy, Drama, Romance\",\"Crime, Drama\",\"Comedy, Drama, Romance\",\"Drama, Romance\",\"Drama\",\"Animation, Adventure, Comedy\",\"Adventure, Comedy, Drama\",\"Comedy, Drama\",\"Comedy, Drama, Music\",\"Action, Adventure, Comedy\",\"Crime, Drama, Thriller\",\"Comedy, Drama, War\",\"Drama, Sci-Fi\",\"Action, Adventure, Sci-Fi\",\"Drama, Romance\",\"Action, Adventure, Sci-Fi\",\"Crime, Drama\",\"Comedy, Drama, Romance\",\"Action, Adventure, Sci-Fi\",\"Drama, Romance\",\"Biography, Crime, Drama\",\"Crime, Drama\",\"Drama, Mystery, Sci-Fi\",\"Crime, Drama, Fantasy\",\"Action, Sci-Fi, Thriller\",\"Drama, Sport\",\"Comedy, Drama, Romance\",\"Drama\",\"Drama\",\"Action, Adventure, Sci-Fi\",\"Comedy, Crime, Drama\",\"Drama, Fantasy, Mystery\",\"Action, Adventure, Drama\",\"Adventure, Drama, Fantasy\",\"Adventure, Drama, Fantasy\",\"Animation, Adventure, Comedy\",\"Comedy, Drama\",\"Drama, Music\",\"Action, Adventure, Sci-Fi\",\"Comedy, Horror\",\"Drama, Romance\",\"Crime, Drama, Mystery\",\"Adventure, Family, Fantasy\",\"Action, Adventure, History\",\"Drama, Mystery, Romance\",\"Comedy, Drama, War\",\"Animation, Action, Crime\",\"Action, Mystery, Thriller\",\"Crime, Drama, Thriller\",\"Adventure, Drama, Sci-Fi\",\"Adventure, Comedy, Drama\",\"Drama, Mystery, Thriller\",\"Animation, Adventure, Comedy\",\"Drama\",\"Animation, Drama, Family\",\"Crime, Drama\",\"Crime, Drama, Romance\",\"Drama, Music, Mystery\",\"Animation, Action, Adventure\",\"Crime, Drama, Thriller\",\"Drama, Fantasy, Romance\",\"Biography, Drama\",\"Comedy, Drama\",\"Crime, Drama, Thriller\",\"Comedy, Drama\",\"Drama, Sci-Fi\",\"Comedy, Music\",\"Comedy, Family\",\"Action, Adventure, Comedy\",\"Comedy, Drama, Romance\",\"Drama, Music, Musical\",\"Action, Adventure, Horror\",\"Biography, Drama, History\",\"Adventure, Drama, Fantasy\",\"Comedy, Drama, Family\",\"Comedy\",\"Action, Adventure, Biography\",\"Comedy, Drama, Romance\",\"Biography, Drama, War\",\"Action, Adventure, Western\",\"Horror, Thriller\",\"Biography, Drama, History\",\"Crime, Drama, Mystery\",\"Comedy, Mystery, Romance\",\"Drama, Thriller\",\"Adventure, Biography, Drama\",\"Drama, Mystery\",\"Drama, Romance\",\"Adventure, Drama\",\"Adventure, Drama, Western\",\"Drama\",\"Drama, Thriller, Western\",\"Crime, Film-Noir, Thriller\",\"Comedy, Drama, Fantasy\",\"Comedy, Drama, Family\",\"Drama, Film-Noir, Romance\",\"Crime, Film-Noir, Mystery\",\"Drama, Film-Noir\",\"Comedy, Romance\",\"Comedy, Drama, Romance\",\"Action, Adventure, Romance\",\"Comedy, Music, Musical\",\"Adventure, Horror, Sci-Fi\",\"Drama, Horror\",\"Fantasy, Horror\",\"Action, Comedy, Crime\",\"Action, Drama, Thriller\",\"Drama, Music\",\"Drama\",\"Action, Drama, History\",\"Comedy, Drama\",\"Biography, Drama, History\",\"Adventure, Comedy, Family\",\"Action, Crime, Drama\",\"Animation, Action, Adventure\",\"Biography, Drama, Sport\",\"Drama\",\"Drama, History, War\",\"Action, Adventure, Sci-Fi\",\"Action, Adventure, Sci-Fi\",\"Crime, Drama, Mystery\",\"Drama, Romance\",\"Animation, Biography, Crime\",\"Biography, Comedy, Drama\",\"Drama, Mystery\",\"Drama\",\"Drama, Romance\",\"Comedy, Romance\",\"Animation, Action, Adventure\",\"Comedy, Drama, Fantasy\",\"Comedy, Drama, Family\",\"Animation, Biography, Drama\",\"Animation, Adventure, Comedy\",\"Crime, Drama, Mystery\",\"Comedy, Drama, Romance\",\"Animation, Action, Adventure\",\"Biography, Comedy, Drama\",\"Drama, Thriller\",\"Action, Crime, Drama\",\"Crime, Drama, Mystery\",\"Adventure, Biography, Crime\",\"Action, Crime, Drama\",\"Biography, Drama, History\",\"Crime, Drama, Mystery\",\"Action, Crime, Thriller\",\"Adventure, Fantasy\",\"Drama, History, Mystery\",\"Crime, Drama, Mystery\",\"Drama, History, Thriller\",\"Comedy, Drama\",\"Biography, Drama, Sport\",\"Action, Thriller\",\"Drama, History, War\",\"Drama, Music, Romance\",\"Adventure, Fantasy\",\"Drama\",\"Drama, Mystery, Romance\",\"Crime, Drama\",\"Biography, Crime, Drama\",\"Action, Adventure, Fantasy\",\"Drama, Fantasy, Romance\",\"Action, Adventure, Drama\",\"Comedy, Drama\",\"Action, Comedy, Mystery\",\"Drama, Fantasy, Romance\",\"Drama, Family, Musical\",\"Comedy, Crime, Drama\",\"Drama, Romance\",\"Biography, Drama, Sport\",\"Animation, Adventure, Comedy\",\"Action, Adventure, Sci-Fi\",\"Biography, Drama, Music\",\"Drama\",\"Drama, Romance\",\"Adventure, Biography, Drama\",\"Crime, Drama\",\"Animation, Comedy, Drama\",\"Action, Drama, Thriller\",\"Action, Adventure, Drama\",\"Animation, Drama, Fantasy\",\"Biography, Drama, Sport\",\"Action, Adventure, Fantasy\",\"Drama\",\"Adventure, Drama, Romance\",\"Action, Crime, Thriller\",\"Biography, Drama, Thriller\",\"Biography, Drama, Family\",\"Animation, Adventure, Comedy\",\"Drama, Romance\",\"Crime, Drama, Romance\",\"Drama, Sci-Fi, Thriller\",\"Action, Drama, Mystery\",\"Drama\",\"Biography, Comedy, Drama\",\"Drama\",\"Action, Biography, Drama\",\"Comedy, Drama, Family\",\"Drama, Romance\",\"Comedy, Drama\",\"Action, Crime, Drama\",\"Crime, Drama, Romance\",\"Animation, Action, Crime\",\"Action, Crime, Thriller\",\"Comedy, Drama\",\"Drama, Fantasy, Music\",\"Crime, Drama\",\"Drama, Thriller\",\"Biography, Drama\",\"Animation, Adventure, Drama\",\"Biography, Drama, History\",\"Action, Crime, Drama\",\"Adventure, Comedy, Sci-Fi\",\"Crime, Drama, History\",\"Action, Adventure, Sci-Fi\",\"Action, Comedy, Fantasy\",\"Comedy\",\"Comedy, Crime, Drama\",\"Adventure, Comedy, Family\",\"Drama\",\"Comedy, Drama\",\"Biography, Drama, History\",\"Action, Comedy, Fantasy\",\"Adventure, Biography, Drama\",\"Comedy, Crime, Drama\",\"Family, Sci-Fi\",\"Drama\",\"Drama, Romance\",\"Western\",\"Adventure, History, War\",\"Drama, Mystery, Thriller\",\"Animation, Sci-Fi\",\"Crime, Drama, Thriller\",\"Action, Crime, Drama\",\"Drama, Music, Musical\",\"Family, Fantasy, Musical\",\"Drama\",\"Thriller\",\"Comedy, Drama\",\"Action, Biography, Crime\",\"Drama, Family, Musical\",\"Comedy, Family, Fantasy\",\"Action, Drama, History\",\"Drama, Romance\",\"Horror\",\"Crime, Drama\",\"Action, Adventure, Drama\",\"Action, Crime, Drama\",\"Adventure, Comedy, Film-Noir\",\"Film-Noir, Thriller\",\"Adventure, Drama, Western\",\"Mystery, Thriller\",\"Comedy, Family, Romance\",\"Drama, Horror, Sci-Fi\",\"Comedy, Musical, War\",\"Action, Crime, Drama\",\"Drama, Horror, Sci-Fi\",\"Drama\",\"Drama, Romance\",\"Action, Adventure, Comedy\",\"Crime, Drama, Mystery\",\"Horror, Mystery, Thriller\",\"Action, Adventure, Thriller\",\"Comedy, Drama, Romance\",\"Comedy, Horror\",\"Animation, Drama, Family\",\"Biography, Drama, Romance\",\"Action, Adventure, Comedy\",\"Drama, Romance\",\"Comedy, Drama\",\"Comedy, Drama\",\"Drama, Romance\",\"Drama, Sport\",\"Drama, Music, Romance\",\"Action, Adventure, Sci-Fi\",\"Drama, Music, Musical\",\"Adventure, Comedy, Drama\",\"Animation, Adventure, Comedy\",\"Animation, Adventure, Drama\",\"Drama\",\"Comedy, Fantasy, Romance\",\"Animation, Action, Adventure\",\"Drama, Sci-Fi, Thriller\",\"Action, Adventure, Sci-Fi\",\"Drama, War\",\"Biography, Drama\",\"Action, Adventure, Sci-Fi\",\"Comedy\",\"Action, Adventure, Thriller\",\"Comedy, Drama, Romance\",\"Biography, Drama, Thriller\",\"Comedy, Drama, Romance\",\"Adventure, Family, Fantasy\",\"Animation, Adventure, Comedy\",\"Biography, Drama, History\",\"Animation, Drama, Fantasy\",\"Biography, Crime, Drama\",\"Comedy, Drama, Romance\",\"Animation, Adventure, Comedy\",\"Crime, Drama, Fantasy\",\"Crime, Drama\",\"Drama, Sci-Fi, Thriller\",\"Drama\",\"Biography, Drama, History\",\"Crime, Drama, Mystery\",\"Action, Crime, Drama\",\"Drama, History, Music\",\"Biography, Drama, Music\",\"Animation, Adventure, Comedy\",\"Drama, Thriller, War\",\"Drama, Romance\",\"Action, Crime, Drama\",\"Crime, Drama, Thriller\",\"Action, Comedy, Fantasy\",\"Action, Mystery, Thriller\",\"Drama, Thriller\",\"Biography, Drama, Music\",\"Comedy, Drama\",\"Adventure, Family, Fantasy\",\"Action, Crime, Drama\",\"Animation, Drama, Family\",\"Action, Drama\",\"Drama\",\"Comedy, Drama, Romance\",\"Drama\",\"Drama\",\"Comedy, Drama\",\"Drama, History, War\",\"Crime, Drama, Thriller\",\"Drama, Thriller\",\"Drama, Music\",\"Comedy, Drama, Music\",\"Crime, Thriller\",\"Animation, Action, Fantasy\",\"Adventure, Comedy, Crime\",\"Adventure, Comedy, Drama\",\"Animation, Comedy, Fantasy\",\"Comedy\",\"Comedy, Drama\",\"Crime, Drama, Thriller\",\"Comedy, Drama, Romance\",\"Drama, Mystery, Sci-Fi\",\"Comedy, Drama, Fantasy\",\"Comedy, Drama, Romance\",\"Action, Adventure, Sci-Fi\",\"Comedy\",\"Biography, Crime, Drama\",\"Biography, Drama, Music\",\"Crime, Drama, Mystery\",\"Drama\",\"Drama, Family, Fantasy\",\"Comedy, Crime, Drama\",\"Biography, Comedy, Drama\",\"Comedy\",\"Comedy, Drama\",\"Drama\",\"Comedy, Drama, Family\",\"Biography, Drama, History\",\"Action, Adventure, Drama\",\"Animation, Adventure, Comedy\",\"Crime, Drama, Mystery\",\"Drama, Thriller\",\"Drama\",\"Comedy, Drama, Thriller\",\"Crime, Drama, Thriller\",\"Animation, Adventure, Comedy\",\"Mystery, Thriller\",\"Comedy, Drama\",\"Biography, Drama, History\",\"Action, Drama, History\",\"Crime, Drama, Mystery\",\"Drama, Mystery, Thriller\",\"Comedy, Fantasy, Romance\",\"Comedy, Crime, Drama\",\"Comedy\",\"Drama\",\"Action, Adventure, Sci-Fi\",\"Action, Adventure\",\"Drama\",\"Comedy\",\"Animation, Adventure, Family\",\"Horror, Thriller\",\"Drama, Thriller\",\"Comedy, War\",\"Action, Crime, Thriller\",\"Comedy, Western\",\"Biography, Crime, Drama\",\"Action, Crime, Drama\",\"Adventure, Drama, Thriller\",\"Action, Crime, Drama\",\"Action, Crime, Thriller\",\"Action, Adventure, War\",\"Comedy\",\"Action, Adventure, War\",\"Drama, Romance\",\"Biography, Drama, History\",\"Drama, Horror, Thriller\",\"Drama, History, War\",\"Action, Adventure, Thriller\",\"Drama, Horror, Mystery\",\"Drama, Thriller\",\"Drama, Horror, Thriller\",\"Action, Adventure, Western\",\"Drama, Horror\",\"Drama, Horror, Sci-Fi\",\"Drama\",\"Comedy, Crime\",\"Comedy, Drama, Romance\",\"Comedy, Drama, Romance\",\"Drama, Sci-Fi\",\"Adventure, Drama, Romance\",\"Drama, Film-Noir, Romance\",\"Animation, Family, Fantasy\",\"Horror, Sci-Fi\",\"Biography, Drama, History\",\"Drama, Mystery, Thriller\",\"Comedy, Drama\",\"Drama\",\"Drama\",\"Biography, Crime, Drama\",\"Drama\",\"Adventure, Comedy, Drama\",\"Crime, Drama, Romance\",\"Drama\",\"Action, Adventure, Comedy\",\"Action, Crime, Drama\",\"Action, Biography, Drama\",\"Drama, History, Thriller\",\"Animation, Action, Adventure\",\"Animation, Adventure, Comedy\",\"Action, Crime, Drama\",\"Drama, Sport\",\"Crime, Drama\",\"Action, Crime, Drama\",\"Biography, Comedy, Drama\",\"Action, Adventure, Drama\",\"Mystery, Thriller\",\"Action, Thriller\",\"Action, Crime, Drama\",\"Animation, Adventure, Family\",\"Drama, Music, Romance\",\"Drama, Western\",\"Drama, Romance\",\"Animation, Comedy, Crime\",\"Comedy, Drama, Romance\",\"Action, Comedy, Crime\",\"Action, Adventure, Crime\",\"Biography, Drama, Sport\",\"Drama, Horror, Thriller\",\"Adventure, Comedy, Fantasy\",\"Drama, Thriller\",\"Action, Adventure, Mystery\",\"Biography, Drama, Sport\",\"Drama\",\"Drama\",\"Action, Crime, Drama\",\"Adventure, Family, Fantasy\",\"Animation, Adventure, Family\",\"Crime, Drama, Mystery\",\"Crime, Drama, Mystery\",\"Biography, Drama, Music\",\"Action, Biography, Drama\",\"Drama, Fantasy, Mystery\",\"Crime, Drama, Thriller\",\"Action, Adventure, Family\",\"Action, Drama\",\"Drama, Romance, Thriller\",\"Action, Drama, Mystery\",\"Action, Crime, Drama\",\"Horror, Mystery, Thriller\",\"Drama\",\"Drama\",\"Comedy, Drama, Romance\",\"Drama, Mystery, Romance\",\"Comedy, Drama\",\"Crime, Drama, Thriller\",\"Crime, Drama, Thriller\",\"Biography, Drama, Family\",\"Drama\",\"Drama, Sci-Fi, Thriller\",\"Drama, Horror, Sci-Fi\",\"Action, Adventure, Drama\",\"Comedy, Drama\",\"Drama\",\"Adventure, Family, Fantasy\",\"Horror, Mystery, Thriller\",\"Biography, Crime, Drama\",\"Drama, History, War\",\"Action, Crime, Mystery\",\"Biography, Drama, Sport\",\"Comedy, Crime, Drama\",\"Crime, Drama, Thriller\",\"Drama, War\",\"Animation, Adventure, Family\",\"Adventure, Comedy, Drama\",\"Crime, Drama, Thriller\",\"Mystery, Sci-Fi, Thriller\",\"Crime, Drama, Thriller\",\"Mystery, Thriller\",\"Drama, Romance\",\"Action, Adventure, Thriller\",\"Adventure, Drama, Fantasy\",\"Drama, Romance\",\"Adventure, Drama, History\",\"Comedy, Drama, Romance\",\"Action, Crime, Drama\",\"Comedy\",\"Comedy, Crime\",\"Animation, Drama, Romance\",\"Comedy, Crime\",\"Comedy, Family\",\"Crime, Drama\",\"Comedy, Drama, Romance\",\"Animation, Family, Fantasy\",\"Comedy, Crime\",\"Comedy, Drama\",\"Action, Crime, Thriller\",\"Crime, Drama, Thriller\",\"Drama\",\"Action, Adventure, Sci-Fi\",\"Action, Crime, Thriller\",\"Adventure, Comedy, Family\",\"Action, Biography, Crime\",\"Animation, Adventure, Drama\",\"Biography, Crime, Drama\",\"Drama, Sci-Fi\",\"Comedy, Crime, Drama\",\"Drama, War, Western\",\"Adventure, Comedy, War\",\"Animation, Adventure, Family\",\"Drama, Mystery, Thriller\",\"Comedy, Music, Musical\",\"Comedy, Drama, Romance\",\"Drama, Western\",\"Drama, Romance, War\",\"Drama, War\",\"Crime, Mystery, Thriller\"],\"x0\":\" \",\"xaxis\":\"x\",\"y\":[9.3,9.2,9.0,9.0,9.0,8.9,8.9,8.9,8.8,8.8,8.8,8.8,8.8,8.7,8.7,8.7,8.7,8.7,8.6,8.6,8.6,8.6,8.6,8.6,8.6,8.6,8.6,8.6,8.6,8.6,8.6,8.6,8.6,8.5,8.5,8.5,8.5,8.5,8.5,8.5,8.5,8.5,8.5,8.5,8.5,8.5,8.5,8.5,8.5,8.5,8.5,8.5,8.5,8.4,8.4,8.4,8.4,8.4,8.4,8.4,8.4,8.4,8.4,8.4,8.4,8.4,8.4,8.4,8.4,8.4,8.4,8.4,8.4,8.4,8.4,8.4,8.4,8.4,8.4,8.4,8.4,8.4,8.4,8.4,8.3,8.3,8.3,8.3,8.3,8.3,8.3,8.3,8.3,8.3,8.3,8.3,8.3,8.3,8.3,8.3,8.3,8.3,8.3,8.3,8.3,8.3,8.3,8.3,8.3,8.3,8.3,8.3,8.3,8.3,8.3,8.3,8.3,8.3,8.3,8.3,8.3,8.3,8.3,8.3,8.3,8.3,8.3,8.3,8.2,8.2,8.2,8.2,8.2,8.2,8.2,8.2,8.2,8.2,8.2,8.2,8.2,8.2,8.2,8.2,8.2,8.2,8.2,8.2,8.2,8.2,8.2,8.2,8.2,8.2,8.2,8.2,8.2,8.2,8.2,8.2,8.2,8.2,8.2,8.2,8.2,8.2,8.2,8.2,8.2,8.2,8.2,8.2,8.2,8.2,8.2,8.2,8.2,8.2,8.2,8.2,8.2,8.2,8.2,8.2,8.2,8.2,8.2,8.2,8.2,8.2,8.2,8.2,8.2,8.2,8.2,8.1,8.1,8.1,8.1,8.1,8.1,8.1,8.1,8.1,8.1,8.1,8.1,8.1,8.1,8.1,8.1,8.1,8.1,8.1,8.1,8.1,8.1,8.1,8.1,8.1,8.1,8.1,8.1,8.1,8.1,8.1,8.1,8.1,8.1,8.1,8.1,8.1,8.1,8.1,8.1,8.1,8.1,8.1,8.1,8.1,8.1,8.1,8.1,8.1,8.1,8.1,8.1,8.1,8.1,8.1,8.1,8.1,8.1,8.1,8.1,8.1,8.1,8.1,8.1,8.1,8.1,8.1,8.1,8.1,8.1,8.1,8.1,8.1,8.1,8.1,8.1,8.1,8.1,8.1,8.1,8.1,8.1,8.1,8.1,8.1,8.1,8.1,8.1,8.1,8.1,8.1,8.1,8.1,8.1,8.1,8.1,8.1,8.1,8.1,8.1,8.1,8.1,8.1,8.1,8.1,8.1,8.1,8.1,8.1,8.1,8.1,8.1,8.1,8.1,8.1,8.1,8.1,8.1,8.1,8.1,8.1,8.1,8.1,8.1,8.1,8.1,8.1,8.0,8.0,8.0,8.0,8.0,8.0,8.0,8.0,8.0,8.0,8.0,8.0,8.0,8.0,8.0,8.0,8.0,8.0,8.0,8.0,8.0,8.0,8.0,8.0,8.0,8.0,8.0,8.0,8.0,8.0,8.0,8.0,8.0,8.0,8.0,8.0,8.0,8.0,8.0,8.0,8.0,8.0,8.0,8.0,8.0,8.0,8.0,8.0,8.0,8.0,8.0,8.0,8.0,8.0,8.0,8.0,8.0,8.0,8.0,8.0,8.0,8.0,8.0,8.0,8.0,8.0,8.0,8.0,8.0,8.0,8.0,8.0,8.0,8.0,8.0,8.0,8.0,8.0,8.0,8.0,8.0,8.0,8.0,8.0,8.0,8.0,8.0,8.0,8.0,8.0,8.0,8.0,8.0,8.0,8.0,8.0,8.0,8.0,8.0,8.0,8.0,8.0,8.0,8.0,8.0,8.0,8.0,8.0,8.0,8.0,8.0,8.0,8.0,8.0,8.0,8.0,8.0,8.0,8.0,8.0,8.0,8.0,8.0,8.0,8.0,8.0,8.0,8.0,8.0,8.0,8.0,8.0,8.0,8.0,8.0,8.0,8.0,8.0,8.0,8.0,8.0,7.9,7.9,7.9,7.9,7.9,7.9,7.9,7.9,7.9,7.9,7.9,7.9,7.9,7.9,7.9,7.9,7.9,7.9,7.9,7.9,7.9,7.9,7.9,7.9,7.9,7.9,7.9,7.9,7.9,7.9,7.9,7.9,7.9,7.9,7.9,7.9,7.9,7.9,7.9,7.9,7.9,7.9,7.9,7.9,7.9,7.9,7.9,7.9,7.9,7.9,7.9,7.9,7.9,7.9,7.9,7.9,7.9,7.9,7.9,7.9,7.9,7.9,7.9,7.9,7.9,7.9,7.9,7.9,7.9,7.9,7.9,7.9,7.9,7.9,7.9,7.9,7.9,7.9,7.9,7.9,7.9,7.9,7.9,7.9,7.9,7.9,7.9,7.9,7.9,7.9,7.9,7.9,7.9,7.9,7.9,7.9,7.9,7.9,7.9,7.9,7.9,7.9,7.9,7.9,7.9,7.9,7.8,7.8,7.8,7.8,7.8,7.8,7.8,7.8,7.8,7.8,7.8,7.8,7.8,7.8,7.8,7.8,7.8,7.8,7.8,7.8,7.8,7.8,7.8,7.8,7.8,7.8,7.8,7.8,7.8,7.8,7.8,7.8,7.8,7.8,7.8,7.8,7.8,7.8,7.8,7.8,7.8,7.8,7.8,7.8,7.8,7.8,7.8,7.8,7.8,7.8,7.8,7.8,7.8,7.8,7.8,7.8,7.8,7.8,7.8,7.8,7.8,7.8,7.8,7.8,7.8,7.8,7.8,7.8,7.8,7.8,7.8,7.8,7.8,7.8,7.8,7.8,7.8,7.8,7.8,7.8,7.8,7.8,7.8,7.8,7.8,7.8,7.8,7.8,7.8,7.8,7.8,7.8,7.8,7.8,7.8,7.8,7.8,7.8,7.8,7.8,7.8,7.8,7.8,7.8,7.8,7.8,7.8,7.8,7.8,7.8,7.8,7.8,7.8,7.8,7.8,7.8,7.8,7.8,7.8,7.8,7.8,7.8,7.8,7.8,7.8,7.8,7.8,7.8,7.8,7.8,7.8,7.8,7.8,7.8,7.8,7.8,7.8,7.8,7.8,7.8,7.8,7.8,7.8,7.8,7.8,7.8,7.8,7.8,7.8,7.8,7.8,7.7,7.7,7.7,7.7,7.7,7.7,7.7,7.7,7.7,7.7,7.7,7.7,7.7,7.7,7.7,7.7,7.7,7.7,7.7,7.7,7.7,7.7,7.7,7.7,7.7,7.7,7.7,7.7,7.7,7.7,7.7,7.7,7.7,7.7,7.7,7.7,7.7,7.7,7.7,7.7,7.7,7.7,7.7,7.7,7.7,7.7,7.7,7.7,7.7,7.7,7.7,7.7,7.7,7.7,7.7,7.7,7.7,7.7,7.7,7.7,7.7,7.7,7.7,7.7,7.7,7.7,7.7,7.7,7.7,7.7,7.7,7.7,7.7,7.7,7.7,7.7,7.7,7.7,7.7,7.7,7.7,7.7,7.7,7.7,7.7,7.7,7.7,7.7,7.7,7.7,7.7,7.7,7.7,7.7,7.7,7.7,7.7,7.7,7.7,7.7,7.7,7.7,7.7,7.7,7.7,7.7,7.7,7.7,7.7,7.7,7.7,7.7,7.7,7.7,7.7,7.7,7.7,7.7,7.7,7.7,7.7,7.7,7.7,7.7,7.7,7.7,7.7,7.7,7.7,7.7,7.7,7.7,7.7,7.7,7.7,7.7,7.7,7.7,7.7,7.7,7.7,7.7,7.7,7.7,7.7,7.7,7.7,7.7,7.7,7.7,7.7,7.7,7.7,7.7,7.7,7.7,7.7,7.6,7.6,7.6,7.6,7.6,7.6,7.6,7.6,7.6,7.6,7.6,7.6,7.6,7.6,7.6,7.6,7.6,7.6,7.6,7.6,7.6,7.6,7.6,7.6,7.6,7.6,7.6,7.6,7.6,7.6,7.6,7.6,7.6,7.6,7.6,7.6,7.6,7.6,7.6,7.6,7.6,7.6,7.6,7.6,7.6,7.6,7.6,7.6,7.6,7.6,7.6,7.6,7.6,7.6,7.6,7.6,7.6,7.6,7.6,7.6,7.6,7.6,7.6,7.6,7.6,7.6,7.6,7.6,7.6,7.6,7.6,7.6,7.6,7.6,7.6,7.6,7.6,7.6,7.6,7.6,7.6,7.6,7.6,7.6,7.6,7.6,7.6,7.6,7.6,7.6,7.6,7.6,7.6,7.6,7.6,7.6,7.6,7.6,7.6,7.6,7.6,7.6,7.6,7.6,7.6,7.6,7.6,7.6,7.6,7.6,7.6,7.6,7.6,7.6,7.6,7.6,7.6,7.6,7.6,7.6,7.6,7.6,7.6],\"y0\":\" \",\"yaxis\":\"y\",\"type\":\"box\"}],                        {\"template\":{\"data\":{\"histogram2dcontour\":[{\"type\":\"histogram2dcontour\",\"colorbar\":{\"outlinewidth\":0,\"ticks\":\"\"},\"colorscale\":[[0.0,\"#0d0887\"],[0.1111111111111111,\"#46039f\"],[0.2222222222222222,\"#7201a8\"],[0.3333333333333333,\"#9c179e\"],[0.4444444444444444,\"#bd3786\"],[0.5555555555555556,\"#d8576b\"],[0.6666666666666666,\"#ed7953\"],[0.7777777777777778,\"#fb9f3a\"],[0.8888888888888888,\"#fdca26\"],[1.0,\"#f0f921\"]]}],\"choropleth\":[{\"type\":\"choropleth\",\"colorbar\":{\"outlinewidth\":0,\"ticks\":\"\"}}],\"histogram2d\":[{\"type\":\"histogram2d\",\"colorbar\":{\"outlinewidth\":0,\"ticks\":\"\"},\"colorscale\":[[0.0,\"#0d0887\"],[0.1111111111111111,\"#46039f\"],[0.2222222222222222,\"#7201a8\"],[0.3333333333333333,\"#9c179e\"],[0.4444444444444444,\"#bd3786\"],[0.5555555555555556,\"#d8576b\"],[0.6666666666666666,\"#ed7953\"],[0.7777777777777778,\"#fb9f3a\"],[0.8888888888888888,\"#fdca26\"],[1.0,\"#f0f921\"]]}],\"heatmap\":[{\"type\":\"heatmap\",\"colorbar\":{\"outlinewidth\":0,\"ticks\":\"\"},\"colorscale\":[[0.0,\"#0d0887\"],[0.1111111111111111,\"#46039f\"],[0.2222222222222222,\"#7201a8\"],[0.3333333333333333,\"#9c179e\"],[0.4444444444444444,\"#bd3786\"],[0.5555555555555556,\"#d8576b\"],[0.6666666666666666,\"#ed7953\"],[0.7777777777777778,\"#fb9f3a\"],[0.8888888888888888,\"#fdca26\"],[1.0,\"#f0f921\"]]}],\"heatmapgl\":[{\"type\":\"heatmapgl\",\"colorbar\":{\"outlinewidth\":0,\"ticks\":\"\"},\"colorscale\":[[0.0,\"#0d0887\"],[0.1111111111111111,\"#46039f\"],[0.2222222222222222,\"#7201a8\"],[0.3333333333333333,\"#9c179e\"],[0.4444444444444444,\"#bd3786\"],[0.5555555555555556,\"#d8576b\"],[0.6666666666666666,\"#ed7953\"],[0.7777777777777778,\"#fb9f3a\"],[0.8888888888888888,\"#fdca26\"],[1.0,\"#f0f921\"]]}],\"contourcarpet\":[{\"type\":\"contourcarpet\",\"colorbar\":{\"outlinewidth\":0,\"ticks\":\"\"}}],\"contour\":[{\"type\":\"contour\",\"colorbar\":{\"outlinewidth\":0,\"ticks\":\"\"},\"colorscale\":[[0.0,\"#0d0887\"],[0.1111111111111111,\"#46039f\"],[0.2222222222222222,\"#7201a8\"],[0.3333333333333333,\"#9c179e\"],[0.4444444444444444,\"#bd3786\"],[0.5555555555555556,\"#d8576b\"],[0.6666666666666666,\"#ed7953\"],[0.7777777777777778,\"#fb9f3a\"],[0.8888888888888888,\"#fdca26\"],[1.0,\"#f0f921\"]]}],\"surface\":[{\"type\":\"surface\",\"colorbar\":{\"outlinewidth\":0,\"ticks\":\"\"},\"colorscale\":[[0.0,\"#0d0887\"],[0.1111111111111111,\"#46039f\"],[0.2222222222222222,\"#7201a8\"],[0.3333333333333333,\"#9c179e\"],[0.4444444444444444,\"#bd3786\"],[0.5555555555555556,\"#d8576b\"],[0.6666666666666666,\"#ed7953\"],[0.7777777777777778,\"#fb9f3a\"],[0.8888888888888888,\"#fdca26\"],[1.0,\"#f0f921\"]]}],\"mesh3d\":[{\"type\":\"mesh3d\",\"colorbar\":{\"outlinewidth\":0,\"ticks\":\"\"}}],\"scatter\":[{\"fillpattern\":{\"fillmode\":\"overlay\",\"size\":10,\"solidity\":0.2},\"type\":\"scatter\"}],\"parcoords\":[{\"type\":\"parcoords\",\"line\":{\"colorbar\":{\"outlinewidth\":0,\"ticks\":\"\"}}}],\"scatterpolargl\":[{\"type\":\"scatterpolargl\",\"marker\":{\"colorbar\":{\"outlinewidth\":0,\"ticks\":\"\"}}}],\"bar\":[{\"error_x\":{\"color\":\"#2a3f5f\"},\"error_y\":{\"color\":\"#2a3f5f\"},\"marker\":{\"line\":{\"color\":\"#E5ECF6\",\"width\":0.5},\"pattern\":{\"fillmode\":\"overlay\",\"size\":10,\"solidity\":0.2}},\"type\":\"bar\"}],\"scattergeo\":[{\"type\":\"scattergeo\",\"marker\":{\"colorbar\":{\"outlinewidth\":0,\"ticks\":\"\"}}}],\"scatterpolar\":[{\"type\":\"scatterpolar\",\"marker\":{\"colorbar\":{\"outlinewidth\":0,\"ticks\":\"\"}}}],\"histogram\":[{\"marker\":{\"pattern\":{\"fillmode\":\"overlay\",\"size\":10,\"solidity\":0.2}},\"type\":\"histogram\"}],\"scattergl\":[{\"type\":\"scattergl\",\"marker\":{\"colorbar\":{\"outlinewidth\":0,\"ticks\":\"\"}}}],\"scatter3d\":[{\"type\":\"scatter3d\",\"line\":{\"colorbar\":{\"outlinewidth\":0,\"ticks\":\"\"}},\"marker\":{\"colorbar\":{\"outlinewidth\":0,\"ticks\":\"\"}}}],\"scattermapbox\":[{\"type\":\"scattermapbox\",\"marker\":{\"colorbar\":{\"outlinewidth\":0,\"ticks\":\"\"}}}],\"scatterternary\":[{\"type\":\"scatterternary\",\"marker\":{\"colorbar\":{\"outlinewidth\":0,\"ticks\":\"\"}}}],\"scattercarpet\":[{\"type\":\"scattercarpet\",\"marker\":{\"colorbar\":{\"outlinewidth\":0,\"ticks\":\"\"}}}],\"carpet\":[{\"aaxis\":{\"endlinecolor\":\"#2a3f5f\",\"gridcolor\":\"white\",\"linecolor\":\"white\",\"minorgridcolor\":\"white\",\"startlinecolor\":\"#2a3f5f\"},\"baxis\":{\"endlinecolor\":\"#2a3f5f\",\"gridcolor\":\"white\",\"linecolor\":\"white\",\"minorgridcolor\":\"white\",\"startlinecolor\":\"#2a3f5f\"},\"type\":\"carpet\"}],\"table\":[{\"cells\":{\"fill\":{\"color\":\"#EBF0F8\"},\"line\":{\"color\":\"white\"}},\"header\":{\"fill\":{\"color\":\"#C8D4E3\"},\"line\":{\"color\":\"white\"}},\"type\":\"table\"}],\"barpolar\":[{\"marker\":{\"line\":{\"color\":\"#E5ECF6\",\"width\":0.5},\"pattern\":{\"fillmode\":\"overlay\",\"size\":10,\"solidity\":0.2}},\"type\":\"barpolar\"}],\"pie\":[{\"automargin\":true,\"type\":\"pie\"}]},\"layout\":{\"autotypenumbers\":\"strict\",\"colorway\":[\"#636efa\",\"#EF553B\",\"#00cc96\",\"#ab63fa\",\"#FFA15A\",\"#19d3f3\",\"#FF6692\",\"#B6E880\",\"#FF97FF\",\"#FECB52\"],\"font\":{\"color\":\"#2a3f5f\"},\"hovermode\":\"closest\",\"hoverlabel\":{\"align\":\"left\"},\"paper_bgcolor\":\"white\",\"plot_bgcolor\":\"#E5ECF6\",\"polar\":{\"bgcolor\":\"#E5ECF6\",\"angularaxis\":{\"gridcolor\":\"white\",\"linecolor\":\"white\",\"ticks\":\"\"},\"radialaxis\":{\"gridcolor\":\"white\",\"linecolor\":\"white\",\"ticks\":\"\"}},\"ternary\":{\"bgcolor\":\"#E5ECF6\",\"aaxis\":{\"gridcolor\":\"white\",\"linecolor\":\"white\",\"ticks\":\"\"},\"baxis\":{\"gridcolor\":\"white\",\"linecolor\":\"white\",\"ticks\":\"\"},\"caxis\":{\"gridcolor\":\"white\",\"linecolor\":\"white\",\"ticks\":\"\"}},\"coloraxis\":{\"colorbar\":{\"outlinewidth\":0,\"ticks\":\"\"}},\"colorscale\":{\"sequential\":[[0.0,\"#0d0887\"],[0.1111111111111111,\"#46039f\"],[0.2222222222222222,\"#7201a8\"],[0.3333333333333333,\"#9c179e\"],[0.4444444444444444,\"#bd3786\"],[0.5555555555555556,\"#d8576b\"],[0.6666666666666666,\"#ed7953\"],[0.7777777777777778,\"#fb9f3a\"],[0.8888888888888888,\"#fdca26\"],[1.0,\"#f0f921\"]],\"sequentialminus\":[[0.0,\"#0d0887\"],[0.1111111111111111,\"#46039f\"],[0.2222222222222222,\"#7201a8\"],[0.3333333333333333,\"#9c179e\"],[0.4444444444444444,\"#bd3786\"],[0.5555555555555556,\"#d8576b\"],[0.6666666666666666,\"#ed7953\"],[0.7777777777777778,\"#fb9f3a\"],[0.8888888888888888,\"#fdca26\"],[1.0,\"#f0f921\"]],\"diverging\":[[0,\"#8e0152\"],[0.1,\"#c51b7d\"],[0.2,\"#de77ae\"],[0.3,\"#f1b6da\"],[0.4,\"#fde0ef\"],[0.5,\"#f7f7f7\"],[0.6,\"#e6f5d0\"],[0.7,\"#b8e186\"],[0.8,\"#7fbc41\"],[0.9,\"#4d9221\"],[1,\"#276419\"]]},\"xaxis\":{\"gridcolor\":\"white\",\"linecolor\":\"white\",\"ticks\":\"\",\"title\":{\"standoff\":15},\"zerolinecolor\":\"white\",\"automargin\":true,\"zerolinewidth\":2},\"yaxis\":{\"gridcolor\":\"white\",\"linecolor\":\"white\",\"ticks\":\"\",\"title\":{\"standoff\":15},\"zerolinecolor\":\"white\",\"automargin\":true,\"zerolinewidth\":2},\"scene\":{\"xaxis\":{\"backgroundcolor\":\"#E5ECF6\",\"gridcolor\":\"white\",\"linecolor\":\"white\",\"showbackground\":true,\"ticks\":\"\",\"zerolinecolor\":\"white\",\"gridwidth\":2},\"yaxis\":{\"backgroundcolor\":\"#E5ECF6\",\"gridcolor\":\"white\",\"linecolor\":\"white\",\"showbackground\":true,\"ticks\":\"\",\"zerolinecolor\":\"white\",\"gridwidth\":2},\"zaxis\":{\"backgroundcolor\":\"#E5ECF6\",\"gridcolor\":\"white\",\"linecolor\":\"white\",\"showbackground\":true,\"ticks\":\"\",\"zerolinecolor\":\"white\",\"gridwidth\":2}},\"shapedefaults\":{\"line\":{\"color\":\"#2a3f5f\"}},\"annotationdefaults\":{\"arrowcolor\":\"#2a3f5f\",\"arrowhead\":0,\"arrowwidth\":1},\"geo\":{\"bgcolor\":\"white\",\"landcolor\":\"#E5ECF6\",\"subunitcolor\":\"white\",\"showland\":true,\"showlakes\":true,\"lakecolor\":\"white\"},\"title\":{\"x\":0.05},\"mapbox\":{\"style\":\"light\"}}},\"xaxis\":{\"anchor\":\"y\",\"domain\":[0.0,1.0],\"title\":{\"text\":\"Genre\"}},\"yaxis\":{\"anchor\":\"x\",\"domain\":[0.0,1.0],\"title\":{\"text\":\"IMDB_Rating\"}},\"legend\":{\"tracegroupgap\":0},\"title\":{\"text\":\"IMDB Ratings by Genre\"},\"boxmode\":\"group\"},                        {\"responsive\": true}                    ).then(function(){\n",
              "                            \n",
              "var gd = document.getElementById('a7630a4b-1e8a-478d-bf7a-525035443b24');\n",
              "var x = new MutationObserver(function (mutations, observer) {{\n",
              "        var display = window.getComputedStyle(gd).display;\n",
              "        if (!display || display === 'none') {{\n",
              "            console.log([gd, 'removed!']);\n",
              "            Plotly.purge(gd);\n",
              "            observer.disconnect();\n",
              "        }}\n",
              "}});\n",
              "\n",
              "// Listen for the removal of the full notebook cells\n",
              "var notebookContainer = gd.closest('#notebook-container');\n",
              "if (notebookContainer) {{\n",
              "    x.observe(notebookContainer, {childList: true});\n",
              "}}\n",
              "\n",
              "// Listen for the clearing of the current output cell\n",
              "var outputEl = gd.closest('.output');\n",
              "if (outputEl) {{\n",
              "    x.observe(outputEl, {childList: true});\n",
              "}}\n",
              "\n",
              "                        })                };                            </script>        </div>\n",
              "</body>\n",
              "</html>"
            ]
          },
          "metadata": {}
        },
        {
          "output_type": "stream",
          "name": "stdout",
          "text": [
            "*very strange that highest IMDB ratings are from Drama rather than general perception of sci fi,mystery,horror,etc movies  \n"
          ]
        }
      ]
    },
    {
      "cell_type": "code",
      "source": [
        "corr_matrix = df.corr()\n",
        "heatmap = px.imshow(corr_matrix, color_continuous_scale='RdBu', title='Correlation Matrix')\n",
        "heatmap.show()\n",
        "\n",
        "print(\"Some insights from this data \\n *Released Year and IMDB ratings has no correlation,So we cant say that newer movies are always  more popular \\n *No of votes are strongly related to IMDB Ratings  \")\n"
      ],
      "metadata": {
        "colab": {
          "base_uri": "https://localhost:8080/",
          "height": 683
        },
        "id": "u-zgF4JEQu5L",
        "outputId": "3cbae7a3-d219-4d19-dafb-19535ac2bd82"
      },
      "execution_count": 116,
      "outputs": [
        {
          "output_type": "stream",
          "name": "stderr",
          "text": [
            "<ipython-input-116-cb90d7eed6b4>:1: FutureWarning:\n",
            "\n",
            "The default value of numeric_only in DataFrame.corr is deprecated. In a future version, it will default to False. Select only valid columns or specify the value of numeric_only to silence this warning.\n",
            "\n"
          ]
        },
        {
          "output_type": "display_data",
          "data": {
            "text/html": [
              "<html>\n",
              "<head><meta charset=\"utf-8\" /></head>\n",
              "<body>\n",
              "    <div>            <script src=\"https://cdnjs.cloudflare.com/ajax/libs/mathjax/2.7.5/MathJax.js?config=TeX-AMS-MML_SVG\"></script><script type=\"text/javascript\">if (window.MathJax && window.MathJax.Hub && window.MathJax.Hub.Config) {window.MathJax.Hub.Config({SVG: {font: \"STIX-Web\"}});}</script>                <script type=\"text/javascript\">window.PlotlyConfig = {MathJaxConfig: 'local'};</script>\n",
              "        <script src=\"https://cdn.plot.ly/plotly-2.18.2.min.js\"></script>                <div id=\"3d346370-72e2-4d42-b399-47727f390099\" class=\"plotly-graph-div\" style=\"height:525px; width:100%;\"></div>            <script type=\"text/javascript\">                                    window.PLOTLYENV=window.PLOTLYENV || {};                                    if (document.getElementById(\"3d346370-72e2-4d42-b399-47727f390099\")) {                    Plotly.newPlot(                        \"3d346370-72e2-4d42-b399-47727f390099\",                        [{\"coloraxis\":\"coloraxis\",\"name\":\"0\",\"x\":[\"Released_Year\",\"Runtime\",\"IMDB_Rating\",\"Meta_score\",\"No_of_Votes\"],\"y\":[\"Released_Year\",\"Runtime\",\"IMDB_Rating\",\"Meta_score\",\"No_of_Votes\"],\"z\":[[1.0,0.16580667927314263,-0.1310526647947619,-0.33927245034919257,0.2417847875364977],[0.16580667927314263,1.0,0.24309589775419407,-0.031451971885030974,0.1732637984447104],[-0.1310526647947619,0.24309589775419407,1.0,0.2685308445595564,0.4949788358621451],[-0.33927245034919257,-0.031451971885030974,0.2685308445595564,1.0,-0.01850697150586147],[0.2417847875364977,0.1732637984447104,0.4949788358621451,-0.01850697150586147,1.0]],\"type\":\"heatmap\",\"xaxis\":\"x\",\"yaxis\":\"y\",\"hovertemplate\":\"x: %{x}<br>y: %{y}<br>color: %{z}<extra></extra>\"}],                        {\"template\":{\"data\":{\"histogram2dcontour\":[{\"type\":\"histogram2dcontour\",\"colorbar\":{\"outlinewidth\":0,\"ticks\":\"\"},\"colorscale\":[[0.0,\"#0d0887\"],[0.1111111111111111,\"#46039f\"],[0.2222222222222222,\"#7201a8\"],[0.3333333333333333,\"#9c179e\"],[0.4444444444444444,\"#bd3786\"],[0.5555555555555556,\"#d8576b\"],[0.6666666666666666,\"#ed7953\"],[0.7777777777777778,\"#fb9f3a\"],[0.8888888888888888,\"#fdca26\"],[1.0,\"#f0f921\"]]}],\"choropleth\":[{\"type\":\"choropleth\",\"colorbar\":{\"outlinewidth\":0,\"ticks\":\"\"}}],\"histogram2d\":[{\"type\":\"histogram2d\",\"colorbar\":{\"outlinewidth\":0,\"ticks\":\"\"},\"colorscale\":[[0.0,\"#0d0887\"],[0.1111111111111111,\"#46039f\"],[0.2222222222222222,\"#7201a8\"],[0.3333333333333333,\"#9c179e\"],[0.4444444444444444,\"#bd3786\"],[0.5555555555555556,\"#d8576b\"],[0.6666666666666666,\"#ed7953\"],[0.7777777777777778,\"#fb9f3a\"],[0.8888888888888888,\"#fdca26\"],[1.0,\"#f0f921\"]]}],\"heatmap\":[{\"type\":\"heatmap\",\"colorbar\":{\"outlinewidth\":0,\"ticks\":\"\"},\"colorscale\":[[0.0,\"#0d0887\"],[0.1111111111111111,\"#46039f\"],[0.2222222222222222,\"#7201a8\"],[0.3333333333333333,\"#9c179e\"],[0.4444444444444444,\"#bd3786\"],[0.5555555555555556,\"#d8576b\"],[0.6666666666666666,\"#ed7953\"],[0.7777777777777778,\"#fb9f3a\"],[0.8888888888888888,\"#fdca26\"],[1.0,\"#f0f921\"]]}],\"heatmapgl\":[{\"type\":\"heatmapgl\",\"colorbar\":{\"outlinewidth\":0,\"ticks\":\"\"},\"colorscale\":[[0.0,\"#0d0887\"],[0.1111111111111111,\"#46039f\"],[0.2222222222222222,\"#7201a8\"],[0.3333333333333333,\"#9c179e\"],[0.4444444444444444,\"#bd3786\"],[0.5555555555555556,\"#d8576b\"],[0.6666666666666666,\"#ed7953\"],[0.7777777777777778,\"#fb9f3a\"],[0.8888888888888888,\"#fdca26\"],[1.0,\"#f0f921\"]]}],\"contourcarpet\":[{\"type\":\"contourcarpet\",\"colorbar\":{\"outlinewidth\":0,\"ticks\":\"\"}}],\"contour\":[{\"type\":\"contour\",\"colorbar\":{\"outlinewidth\":0,\"ticks\":\"\"},\"colorscale\":[[0.0,\"#0d0887\"],[0.1111111111111111,\"#46039f\"],[0.2222222222222222,\"#7201a8\"],[0.3333333333333333,\"#9c179e\"],[0.4444444444444444,\"#bd3786\"],[0.5555555555555556,\"#d8576b\"],[0.6666666666666666,\"#ed7953\"],[0.7777777777777778,\"#fb9f3a\"],[0.8888888888888888,\"#fdca26\"],[1.0,\"#f0f921\"]]}],\"surface\":[{\"type\":\"surface\",\"colorbar\":{\"outlinewidth\":0,\"ticks\":\"\"},\"colorscale\":[[0.0,\"#0d0887\"],[0.1111111111111111,\"#46039f\"],[0.2222222222222222,\"#7201a8\"],[0.3333333333333333,\"#9c179e\"],[0.4444444444444444,\"#bd3786\"],[0.5555555555555556,\"#d8576b\"],[0.6666666666666666,\"#ed7953\"],[0.7777777777777778,\"#fb9f3a\"],[0.8888888888888888,\"#fdca26\"],[1.0,\"#f0f921\"]]}],\"mesh3d\":[{\"type\":\"mesh3d\",\"colorbar\":{\"outlinewidth\":0,\"ticks\":\"\"}}],\"scatter\":[{\"fillpattern\":{\"fillmode\":\"overlay\",\"size\":10,\"solidity\":0.2},\"type\":\"scatter\"}],\"parcoords\":[{\"type\":\"parcoords\",\"line\":{\"colorbar\":{\"outlinewidth\":0,\"ticks\":\"\"}}}],\"scatterpolargl\":[{\"type\":\"scatterpolargl\",\"marker\":{\"colorbar\":{\"outlinewidth\":0,\"ticks\":\"\"}}}],\"bar\":[{\"error_x\":{\"color\":\"#2a3f5f\"},\"error_y\":{\"color\":\"#2a3f5f\"},\"marker\":{\"line\":{\"color\":\"#E5ECF6\",\"width\":0.5},\"pattern\":{\"fillmode\":\"overlay\",\"size\":10,\"solidity\":0.2}},\"type\":\"bar\"}],\"scattergeo\":[{\"type\":\"scattergeo\",\"marker\":{\"colorbar\":{\"outlinewidth\":0,\"ticks\":\"\"}}}],\"scatterpolar\":[{\"type\":\"scatterpolar\",\"marker\":{\"colorbar\":{\"outlinewidth\":0,\"ticks\":\"\"}}}],\"histogram\":[{\"marker\":{\"pattern\":{\"fillmode\":\"overlay\",\"size\":10,\"solidity\":0.2}},\"type\":\"histogram\"}],\"scattergl\":[{\"type\":\"scattergl\",\"marker\":{\"colorbar\":{\"outlinewidth\":0,\"ticks\":\"\"}}}],\"scatter3d\":[{\"type\":\"scatter3d\",\"line\":{\"colorbar\":{\"outlinewidth\":0,\"ticks\":\"\"}},\"marker\":{\"colorbar\":{\"outlinewidth\":0,\"ticks\":\"\"}}}],\"scattermapbox\":[{\"type\":\"scattermapbox\",\"marker\":{\"colorbar\":{\"outlinewidth\":0,\"ticks\":\"\"}}}],\"scatterternary\":[{\"type\":\"scatterternary\",\"marker\":{\"colorbar\":{\"outlinewidth\":0,\"ticks\":\"\"}}}],\"scattercarpet\":[{\"type\":\"scattercarpet\",\"marker\":{\"colorbar\":{\"outlinewidth\":0,\"ticks\":\"\"}}}],\"carpet\":[{\"aaxis\":{\"endlinecolor\":\"#2a3f5f\",\"gridcolor\":\"white\",\"linecolor\":\"white\",\"minorgridcolor\":\"white\",\"startlinecolor\":\"#2a3f5f\"},\"baxis\":{\"endlinecolor\":\"#2a3f5f\",\"gridcolor\":\"white\",\"linecolor\":\"white\",\"minorgridcolor\":\"white\",\"startlinecolor\":\"#2a3f5f\"},\"type\":\"carpet\"}],\"table\":[{\"cells\":{\"fill\":{\"color\":\"#EBF0F8\"},\"line\":{\"color\":\"white\"}},\"header\":{\"fill\":{\"color\":\"#C8D4E3\"},\"line\":{\"color\":\"white\"}},\"type\":\"table\"}],\"barpolar\":[{\"marker\":{\"line\":{\"color\":\"#E5ECF6\",\"width\":0.5},\"pattern\":{\"fillmode\":\"overlay\",\"size\":10,\"solidity\":0.2}},\"type\":\"barpolar\"}],\"pie\":[{\"automargin\":true,\"type\":\"pie\"}]},\"layout\":{\"autotypenumbers\":\"strict\",\"colorway\":[\"#636efa\",\"#EF553B\",\"#00cc96\",\"#ab63fa\",\"#FFA15A\",\"#19d3f3\",\"#FF6692\",\"#B6E880\",\"#FF97FF\",\"#FECB52\"],\"font\":{\"color\":\"#2a3f5f\"},\"hovermode\":\"closest\",\"hoverlabel\":{\"align\":\"left\"},\"paper_bgcolor\":\"white\",\"plot_bgcolor\":\"#E5ECF6\",\"polar\":{\"bgcolor\":\"#E5ECF6\",\"angularaxis\":{\"gridcolor\":\"white\",\"linecolor\":\"white\",\"ticks\":\"\"},\"radialaxis\":{\"gridcolor\":\"white\",\"linecolor\":\"white\",\"ticks\":\"\"}},\"ternary\":{\"bgcolor\":\"#E5ECF6\",\"aaxis\":{\"gridcolor\":\"white\",\"linecolor\":\"white\",\"ticks\":\"\"},\"baxis\":{\"gridcolor\":\"white\",\"linecolor\":\"white\",\"ticks\":\"\"},\"caxis\":{\"gridcolor\":\"white\",\"linecolor\":\"white\",\"ticks\":\"\"}},\"coloraxis\":{\"colorbar\":{\"outlinewidth\":0,\"ticks\":\"\"}},\"colorscale\":{\"sequential\":[[0.0,\"#0d0887\"],[0.1111111111111111,\"#46039f\"],[0.2222222222222222,\"#7201a8\"],[0.3333333333333333,\"#9c179e\"],[0.4444444444444444,\"#bd3786\"],[0.5555555555555556,\"#d8576b\"],[0.6666666666666666,\"#ed7953\"],[0.7777777777777778,\"#fb9f3a\"],[0.8888888888888888,\"#fdca26\"],[1.0,\"#f0f921\"]],\"sequentialminus\":[[0.0,\"#0d0887\"],[0.1111111111111111,\"#46039f\"],[0.2222222222222222,\"#7201a8\"],[0.3333333333333333,\"#9c179e\"],[0.4444444444444444,\"#bd3786\"],[0.5555555555555556,\"#d8576b\"],[0.6666666666666666,\"#ed7953\"],[0.7777777777777778,\"#fb9f3a\"],[0.8888888888888888,\"#fdca26\"],[1.0,\"#f0f921\"]],\"diverging\":[[0,\"#8e0152\"],[0.1,\"#c51b7d\"],[0.2,\"#de77ae\"],[0.3,\"#f1b6da\"],[0.4,\"#fde0ef\"],[0.5,\"#f7f7f7\"],[0.6,\"#e6f5d0\"],[0.7,\"#b8e186\"],[0.8,\"#7fbc41\"],[0.9,\"#4d9221\"],[1,\"#276419\"]]},\"xaxis\":{\"gridcolor\":\"white\",\"linecolor\":\"white\",\"ticks\":\"\",\"title\":{\"standoff\":15},\"zerolinecolor\":\"white\",\"automargin\":true,\"zerolinewidth\":2},\"yaxis\":{\"gridcolor\":\"white\",\"linecolor\":\"white\",\"ticks\":\"\",\"title\":{\"standoff\":15},\"zerolinecolor\":\"white\",\"automargin\":true,\"zerolinewidth\":2},\"scene\":{\"xaxis\":{\"backgroundcolor\":\"#E5ECF6\",\"gridcolor\":\"white\",\"linecolor\":\"white\",\"showbackground\":true,\"ticks\":\"\",\"zerolinecolor\":\"white\",\"gridwidth\":2},\"yaxis\":{\"backgroundcolor\":\"#E5ECF6\",\"gridcolor\":\"white\",\"linecolor\":\"white\",\"showbackground\":true,\"ticks\":\"\",\"zerolinecolor\":\"white\",\"gridwidth\":2},\"zaxis\":{\"backgroundcolor\":\"#E5ECF6\",\"gridcolor\":\"white\",\"linecolor\":\"white\",\"showbackground\":true,\"ticks\":\"\",\"zerolinecolor\":\"white\",\"gridwidth\":2}},\"shapedefaults\":{\"line\":{\"color\":\"#2a3f5f\"}},\"annotationdefaults\":{\"arrowcolor\":\"#2a3f5f\",\"arrowhead\":0,\"arrowwidth\":1},\"geo\":{\"bgcolor\":\"white\",\"landcolor\":\"#E5ECF6\",\"subunitcolor\":\"white\",\"showland\":true,\"showlakes\":true,\"lakecolor\":\"white\"},\"title\":{\"x\":0.05},\"mapbox\":{\"style\":\"light\"}}},\"xaxis\":{\"anchor\":\"y\",\"domain\":[0.0,1.0],\"scaleanchor\":\"y\",\"constrain\":\"domain\"},\"yaxis\":{\"anchor\":\"x\",\"domain\":[0.0,1.0],\"autorange\":\"reversed\",\"constrain\":\"domain\"},\"coloraxis\":{\"colorscale\":[[0.0,\"rgb(103,0,31)\"],[0.1,\"rgb(178,24,43)\"],[0.2,\"rgb(214,96,77)\"],[0.3,\"rgb(244,165,130)\"],[0.4,\"rgb(253,219,199)\"],[0.5,\"rgb(247,247,247)\"],[0.6,\"rgb(209,229,240)\"],[0.7,\"rgb(146,197,222)\"],[0.8,\"rgb(67,147,195)\"],[0.9,\"rgb(33,102,172)\"],[1.0,\"rgb(5,48,97)\"]]},\"title\":{\"text\":\"Correlation Matrix\"}},                        {\"responsive\": true}                    ).then(function(){\n",
              "                            \n",
              "var gd = document.getElementById('3d346370-72e2-4d42-b399-47727f390099');\n",
              "var x = new MutationObserver(function (mutations, observer) {{\n",
              "        var display = window.getComputedStyle(gd).display;\n",
              "        if (!display || display === 'none') {{\n",
              "            console.log([gd, 'removed!']);\n",
              "            Plotly.purge(gd);\n",
              "            observer.disconnect();\n",
              "        }}\n",
              "}});\n",
              "\n",
              "// Listen for the removal of the full notebook cells\n",
              "var notebookContainer = gd.closest('#notebook-container');\n",
              "if (notebookContainer) {{\n",
              "    x.observe(notebookContainer, {childList: true});\n",
              "}}\n",
              "\n",
              "// Listen for the clearing of the current output cell\n",
              "var outputEl = gd.closest('.output');\n",
              "if (outputEl) {{\n",
              "    x.observe(outputEl, {childList: true});\n",
              "}}\n",
              "\n",
              "                        })                };                            </script>        </div>\n",
              "</body>\n",
              "</html>"
            ]
          },
          "metadata": {}
        },
        {
          "output_type": "stream",
          "name": "stdout",
          "text": [
            "Some insights from this data \n",
            " *Released Year and IMDB ratings has no correlation,So we cant say that newer movies are always  more popular \n",
            " *No of votes are strongly related to IMDB Ratings  \n"
          ]
        }
      ]
    },
    {
      "cell_type": "code",
      "source": [],
      "metadata": {
        "id": "CX7nG6qrQ1gz"
      },
      "execution_count": 116,
      "outputs": []
    }
  ]
}